{
 "cells": [
  {
   "cell_type": "markdown",
   "metadata": {},
   "source": [
    "## Data"
   ]
  },
  {
   "cell_type": "code",
   "execution_count": 1,
   "metadata": {},
   "outputs": [],
   "source": [
    "setwd('../')"
   ]
  },
  {
   "cell_type": "code",
   "execution_count": 2,
   "metadata": {},
   "outputs": [],
   "source": [
    "## load the constraints\n",
    "constraints_ind <- read.csv('data/toy_constraints_ind.csv', stringsAsFactors = F)\n",
    "constraints_bg <- read.csv('data/toy_constraints_bg.csv', stringsAsFactors = F)\n",
    "constraints_trt <- read.csv('data/toy_constraints_trt.csv', stringsAsFactors = F)[,-1]"
   ]
  },
  {
   "cell_type": "code",
   "execution_count": 3,
   "metadata": {},
   "outputs": [
    {
     "data": {
      "text/html": [
       "<table>\n",
       "<caption>A data.frame: 15 × 6</caption>\n",
       "<thead>\n",
       "\t<tr><th scope=col>SERIAL</th><th scope=col>PERWT</th><th scope=col>POP</th><th scope=col>CONST1</th><th scope=col>CONST2</th><th scope=col>CONST3</th></tr>\n",
       "\t<tr><th scope=col>&lt;chr&gt;</th><th scope=col>&lt;int&gt;</th><th scope=col>&lt;int&gt;</th><th scope=col>&lt;int&gt;</th><th scope=col>&lt;int&gt;</th><th scope=col>&lt;int&gt;</th></tr>\n",
       "</thead>\n",
       "<tbody>\n",
       "\t<tr><td>p1 </td><td> 24</td><td>1</td><td>1</td><td>0</td><td>0</td></tr>\n",
       "\t<tr><td>p2 </td><td> 79</td><td>1</td><td>0</td><td>0</td><td>1</td></tr>\n",
       "\t<tr><td>p3 </td><td> 95</td><td>1</td><td>1</td><td>1</td><td>0</td></tr>\n",
       "\t<tr><td>p4 </td><td> 95</td><td>1</td><td>0</td><td>1</td><td>0</td></tr>\n",
       "\t<tr><td>p5 </td><td> 55</td><td>1</td><td>1</td><td>1</td><td>1</td></tr>\n",
       "\t<tr><td>p6 </td><td> 69</td><td>1</td><td>0</td><td>0</td><td>0</td></tr>\n",
       "\t<tr><td>p7 </td><td>154</td><td>1</td><td>1</td><td>0</td><td>0</td></tr>\n",
       "\t<tr><td>p8 </td><td> 24</td><td>1</td><td>1</td><td>0</td><td>1</td></tr>\n",
       "\t<tr><td>p9 </td><td> 20</td><td>1</td><td>1</td><td>1</td><td>0</td></tr>\n",
       "\t<tr><td>p10</td><td> 14</td><td>1</td><td>1</td><td>0</td><td>1</td></tr>\n",
       "\t<tr><td>p11</td><td> 45</td><td>1</td><td>1</td><td>0</td><td>0</td></tr>\n",
       "\t<tr><td>p12</td><td>179</td><td>1</td><td>0</td><td>0</td><td>1</td></tr>\n",
       "\t<tr><td>p13</td><td>197</td><td>1</td><td>0</td><td>1</td><td>0</td></tr>\n",
       "\t<tr><td>p14</td><td> 57</td><td>1</td><td>0</td><td>0</td><td>1</td></tr>\n",
       "\t<tr><td>p15</td><td>181</td><td>1</td><td>0</td><td>0</td><td>1</td></tr>\n",
       "</tbody>\n",
       "</table>\n"
      ],
      "text/latex": [
       "A data.frame: 15 × 6\n",
       "\\begin{tabular}{llllll}\n",
       " SERIAL & PERWT & POP & CONST1 & CONST2 & CONST3\\\\\n",
       " <chr> & <int> & <int> & <int> & <int> & <int>\\\\\n",
       "\\hline\n",
       "\t p1  &  24 & 1 & 1 & 0 & 0\\\\\n",
       "\t p2  &  79 & 1 & 0 & 0 & 1\\\\\n",
       "\t p3  &  95 & 1 & 1 & 1 & 0\\\\\n",
       "\t p4  &  95 & 1 & 0 & 1 & 0\\\\\n",
       "\t p5  &  55 & 1 & 1 & 1 & 1\\\\\n",
       "\t p6  &  69 & 1 & 0 & 0 & 0\\\\\n",
       "\t p7  & 154 & 1 & 1 & 0 & 0\\\\\n",
       "\t p8  &  24 & 1 & 1 & 0 & 1\\\\\n",
       "\t p9  &  20 & 1 & 1 & 1 & 0\\\\\n",
       "\t p10 &  14 & 1 & 1 & 0 & 1\\\\\n",
       "\t p11 &  45 & 1 & 1 & 0 & 0\\\\\n",
       "\t p12 & 179 & 1 & 0 & 0 & 1\\\\\n",
       "\t p13 & 197 & 1 & 0 & 1 & 0\\\\\n",
       "\t p14 &  57 & 1 & 0 & 0 & 1\\\\\n",
       "\t p15 & 181 & 1 & 0 & 0 & 1\\\\\n",
       "\\end{tabular}\n"
      ],
      "text/markdown": [
       "\n",
       "A data.frame: 15 × 6\n",
       "\n",
       "| SERIAL &lt;chr&gt; | PERWT &lt;int&gt; | POP &lt;int&gt; | CONST1 &lt;int&gt; | CONST2 &lt;int&gt; | CONST3 &lt;int&gt; |\n",
       "|---|---|---|---|---|---|\n",
       "| p1  |  24 | 1 | 1 | 0 | 0 |\n",
       "| p2  |  79 | 1 | 0 | 0 | 1 |\n",
       "| p3  |  95 | 1 | 1 | 1 | 0 |\n",
       "| p4  |  95 | 1 | 0 | 1 | 0 |\n",
       "| p5  |  55 | 1 | 1 | 1 | 1 |\n",
       "| p6  |  69 | 1 | 0 | 0 | 0 |\n",
       "| p7  | 154 | 1 | 1 | 0 | 0 |\n",
       "| p8  |  24 | 1 | 1 | 0 | 1 |\n",
       "| p9  |  20 | 1 | 1 | 1 | 0 |\n",
       "| p10 |  14 | 1 | 1 | 0 | 1 |\n",
       "| p11 |  45 | 1 | 1 | 0 | 0 |\n",
       "| p12 | 179 | 1 | 0 | 0 | 1 |\n",
       "| p13 | 197 | 1 | 0 | 1 | 0 |\n",
       "| p14 |  57 | 1 | 0 | 0 | 1 |\n",
       "| p15 | 181 | 1 | 0 | 0 | 1 |\n",
       "\n"
      ],
      "text/plain": [
       "   SERIAL PERWT POP CONST1 CONST2 CONST3\n",
       "1  p1      24   1   1      0      0     \n",
       "2  p2      79   1   0      0      1     \n",
       "3  p3      95   1   1      1      0     \n",
       "4  p4      95   1   0      1      0     \n",
       "5  p5      55   1   1      1      1     \n",
       "6  p6      69   1   0      0      0     \n",
       "7  p7     154   1   1      0      0     \n",
       "8  p8      24   1   1      0      1     \n",
       "9  p9      20   1   1      1      0     \n",
       "10 p10     14   1   1      0      1     \n",
       "11 p11     45   1   1      0      0     \n",
       "12 p12    179   1   0      0      1     \n",
       "13 p13    197   1   0      1      0     \n",
       "14 p14     57   1   0      0      1     \n",
       "15 p15    181   1   0      0      1     "
      ]
     },
     "metadata": {},
     "output_type": "display_data"
    }
   ],
   "source": [
    "# individual-level (PUMS) constraints\n",
    "constraints_ind"
   ]
  },
  {
   "cell_type": "code",
   "execution_count": 4,
   "metadata": {},
   "outputs": [
    {
     "data": {
      "text/html": [
       "<table>\n",
       "<caption>A data.frame: 10 × 9</caption>\n",
       "<thead>\n",
       "\t<tr><th scope=col>GEOID</th><th scope=col>POP</th><th scope=col>POPs</th><th scope=col>CONST1</th><th scope=col>CONST1s</th><th scope=col>CONST2</th><th scope=col>CONST2s</th><th scope=col>CONST3</th><th scope=col>CONST3s</th></tr>\n",
       "\t<tr><th scope=col>&lt;int&gt;</th><th scope=col>&lt;int&gt;</th><th scope=col>&lt;int&gt;</th><th scope=col>&lt;int&gt;</th><th scope=col>&lt;int&gt;</th><th scope=col>&lt;int&gt;</th><th scope=col>&lt;int&gt;</th><th scope=col>&lt;int&gt;</th><th scope=col>&lt;int&gt;</th></tr>\n",
       "</thead>\n",
       "<tbody>\n",
       "\t<tr><td>101</td><td>112</td><td>6</td><td>78</td><td>6</td><td>12</td><td> 6</td><td>23</td><td> 3</td></tr>\n",
       "\t<tr><td>102</td><td>122</td><td>7</td><td>47</td><td>3</td><td>18</td><td> 4</td><td>94</td><td> 4</td></tr>\n",
       "\t<tr><td>103</td><td>110</td><td>2</td><td>27</td><td>4</td><td>71</td><td>10</td><td>58</td><td>10</td></tr>\n",
       "\t<tr><td>201</td><td>110</td><td>3</td><td>53</td><td>3</td><td>10</td><td> 8</td><td>67</td><td> 5</td></tr>\n",
       "\t<tr><td>202</td><td>150</td><td>3</td><td>31</td><td>7</td><td>96</td><td> 2</td><td>40</td><td> 6</td></tr>\n",
       "\t<tr><td>301</td><td>136</td><td>4</td><td>49</td><td>6</td><td>28</td><td> 8</td><td>58</td><td> 5</td></tr>\n",
       "\t<tr><td>302</td><td>144</td><td>3</td><td>13</td><td>6</td><td>42</td><td> 4</td><td>74</td><td> 3</td></tr>\n",
       "\t<tr><td>303</td><td>148</td><td>2</td><td>13</td><td>2</td><td>61</td><td> 9</td><td>31</td><td> 5</td></tr>\n",
       "\t<tr><td>304</td><td>122</td><td>5</td><td>81</td><td>8</td><td>33</td><td> 6</td><td>52</td><td> 5</td></tr>\n",
       "\t<tr><td>305</td><td>132</td><td>4</td><td>44</td><td>4</td><td>78</td><td> 3</td><td>78</td><td> 4</td></tr>\n",
       "</tbody>\n",
       "</table>\n"
      ],
      "text/latex": [
       "A data.frame: 10 × 9\n",
       "\\begin{tabular}{lllllllll}\n",
       " GEOID & POP & POPs & CONST1 & CONST1s & CONST2 & CONST2s & CONST3 & CONST3s\\\\\n",
       " <int> & <int> & <int> & <int> & <int> & <int> & <int> & <int> & <int>\\\\\n",
       "\\hline\n",
       "\t 101 & 112 & 6 & 78 & 6 & 12 &  6 & 23 &  3\\\\\n",
       "\t 102 & 122 & 7 & 47 & 3 & 18 &  4 & 94 &  4\\\\\n",
       "\t 103 & 110 & 2 & 27 & 4 & 71 & 10 & 58 & 10\\\\\n",
       "\t 201 & 110 & 3 & 53 & 3 & 10 &  8 & 67 &  5\\\\\n",
       "\t 202 & 150 & 3 & 31 & 7 & 96 &  2 & 40 &  6\\\\\n",
       "\t 301 & 136 & 4 & 49 & 6 & 28 &  8 & 58 &  5\\\\\n",
       "\t 302 & 144 & 3 & 13 & 6 & 42 &  4 & 74 &  3\\\\\n",
       "\t 303 & 148 & 2 & 13 & 2 & 61 &  9 & 31 &  5\\\\\n",
       "\t 304 & 122 & 5 & 81 & 8 & 33 &  6 & 52 &  5\\\\\n",
       "\t 305 & 132 & 4 & 44 & 4 & 78 &  3 & 78 &  4\\\\\n",
       "\\end{tabular}\n"
      ],
      "text/markdown": [
       "\n",
       "A data.frame: 10 × 9\n",
       "\n",
       "| GEOID &lt;int&gt; | POP &lt;int&gt; | POPs &lt;int&gt; | CONST1 &lt;int&gt; | CONST1s &lt;int&gt; | CONST2 &lt;int&gt; | CONST2s &lt;int&gt; | CONST3 &lt;int&gt; | CONST3s &lt;int&gt; |\n",
       "|---|---|---|---|---|---|---|---|---|\n",
       "| 101 | 112 | 6 | 78 | 6 | 12 |  6 | 23 |  3 |\n",
       "| 102 | 122 | 7 | 47 | 3 | 18 |  4 | 94 |  4 |\n",
       "| 103 | 110 | 2 | 27 | 4 | 71 | 10 | 58 | 10 |\n",
       "| 201 | 110 | 3 | 53 | 3 | 10 |  8 | 67 |  5 |\n",
       "| 202 | 150 | 3 | 31 | 7 | 96 |  2 | 40 |  6 |\n",
       "| 301 | 136 | 4 | 49 | 6 | 28 |  8 | 58 |  5 |\n",
       "| 302 | 144 | 3 | 13 | 6 | 42 |  4 | 74 |  3 |\n",
       "| 303 | 148 | 2 | 13 | 2 | 61 |  9 | 31 |  5 |\n",
       "| 304 | 122 | 5 | 81 | 8 | 33 |  6 | 52 |  5 |\n",
       "| 305 | 132 | 4 | 44 | 4 | 78 |  3 | 78 |  4 |\n",
       "\n"
      ],
      "text/plain": [
       "   GEOID POP POPs CONST1 CONST1s CONST2 CONST2s CONST3 CONST3s\n",
       "1  101   112 6    78     6       12      6      23      3     \n",
       "2  102   122 7    47     3       18      4      94      4     \n",
       "3  103   110 2    27     4       71     10      58     10     \n",
       "4  201   110 3    53     3       10      8      67      5     \n",
       "5  202   150 3    31     7       96      2      40      6     \n",
       "6  301   136 4    49     6       28      8      58      5     \n",
       "7  302   144 3    13     6       42      4      74      3     \n",
       "8  303   148 2    13     2       61      9      31      5     \n",
       "9  304   122 5    81     8       33      6      52      5     \n",
       "10 305   132 4    44     4       78      3      78      4     "
      ]
     },
     "metadata": {},
     "output_type": "display_data"
    }
   ],
   "source": [
    "# target level constraints (\"block groups\")\n",
    "constraints_bg"
   ]
  },
  {
   "cell_type": "code",
   "execution_count": 5,
   "metadata": {},
   "outputs": [
    {
     "data": {
      "text/html": [
       "<table>\n",
       "<caption>A data.frame: 3 × 9</caption>\n",
       "<thead>\n",
       "\t<tr><th scope=col>GEOID</th><th scope=col>POP</th><th scope=col>CONST1</th><th scope=col>CONST2</th><th scope=col>CONST3</th><th scope=col>POPs</th><th scope=col>CONST1s</th><th scope=col>CONST2s</th><th scope=col>CONST3s</th></tr>\n",
       "\t<tr><th scope=col>&lt;int&gt;</th><th scope=col>&lt;int&gt;</th><th scope=col>&lt;int&gt;</th><th scope=col>&lt;int&gt;</th><th scope=col>&lt;int&gt;</th><th scope=col>&lt;dbl&gt;</th><th scope=col>&lt;dbl&gt;</th><th scope=col>&lt;dbl&gt;</th><th scope=col>&lt;dbl&gt;</th></tr>\n",
       "</thead>\n",
       "<tbody>\n",
       "\t<tr><td>10</td><td>344</td><td>152</td><td>101</td><td>175</td><td>9.433981</td><td> 7.810250</td><td>12.328828</td><td>11.18034</td></tr>\n",
       "\t<tr><td>20</td><td>260</td><td> 84</td><td>106</td><td>107</td><td>4.242641</td><td> 7.615773</td><td> 8.246211</td><td> 7.81025</td></tr>\n",
       "\t<tr><td>30</td><td>682</td><td>200</td><td>242</td><td>293</td><td>8.366600</td><td>12.489996</td><td>14.352700</td><td>10.00000</td></tr>\n",
       "</tbody>\n",
       "</table>\n"
      ],
      "text/latex": [
       "A data.frame: 3 × 9\n",
       "\\begin{tabular}{lllllllll}\n",
       " GEOID & POP & CONST1 & CONST2 & CONST3 & POPs & CONST1s & CONST2s & CONST3s\\\\\n",
       " <int> & <int> & <int> & <int> & <int> & <dbl> & <dbl> & <dbl> & <dbl>\\\\\n",
       "\\hline\n",
       "\t 10 & 344 & 152 & 101 & 175 & 9.433981 &  7.810250 & 12.328828 & 11.18034\\\\\n",
       "\t 20 & 260 &  84 & 106 & 107 & 4.242641 &  7.615773 &  8.246211 &  7.81025\\\\\n",
       "\t 30 & 682 & 200 & 242 & 293 & 8.366600 & 12.489996 & 14.352700 & 10.00000\\\\\n",
       "\\end{tabular}\n"
      ],
      "text/markdown": [
       "\n",
       "A data.frame: 3 × 9\n",
       "\n",
       "| GEOID &lt;int&gt; | POP &lt;int&gt; | CONST1 &lt;int&gt; | CONST2 &lt;int&gt; | CONST3 &lt;int&gt; | POPs &lt;dbl&gt; | CONST1s &lt;dbl&gt; | CONST2s &lt;dbl&gt; | CONST3s &lt;dbl&gt; |\n",
       "|---|---|---|---|---|---|---|---|---|\n",
       "| 10 | 344 | 152 | 101 | 175 | 9.433981 |  7.810250 | 12.328828 | 11.18034 |\n",
       "| 20 | 260 |  84 | 106 | 107 | 4.242641 |  7.615773 |  8.246211 |  7.81025 |\n",
       "| 30 | 682 | 200 | 242 | 293 | 8.366600 | 12.489996 | 14.352700 | 10.00000 |\n",
       "\n"
      ],
      "text/plain": [
       "  GEOID POP CONST1 CONST2 CONST3 POPs     CONST1s   CONST2s   CONST3s \n",
       "1 10    344 152    101    175    9.433981  7.810250 12.328828 11.18034\n",
       "2 20    260  84    106    107    4.242641  7.615773  8.246211  7.81025\n",
       "3 30    682 200    242    293    8.366600 12.489996 14.352700 10.00000"
      ]
     },
     "metadata": {},
     "output_type": "display_data"
    }
   ],
   "source": [
    "# upper-level constraints (\"tracts\")\n",
    "constraints_trt"
   ]
  },
  {
   "cell_type": "code",
   "execution_count": 6,
   "metadata": {},
   "outputs": [],
   "source": [
    "# build geo lookup table\n",
    "geo_lookup <- data.frame(bg = constraints_bg$GEOID, trt = substr(constraints_bg$GEOID, 1, 2))"
   ]
  },
  {
   "cell_type": "code",
   "execution_count": 7,
   "metadata": {},
   "outputs": [
    {
     "data": {
      "text/html": [
       "<table>\n",
       "<caption>A data.frame: 10 × 2</caption>\n",
       "<thead>\n",
       "\t<tr><th scope=col>bg</th><th scope=col>trt</th></tr>\n",
       "\t<tr><th scope=col>&lt;int&gt;</th><th scope=col>&lt;fct&gt;</th></tr>\n",
       "</thead>\n",
       "<tbody>\n",
       "\t<tr><td>101</td><td>10</td></tr>\n",
       "\t<tr><td>102</td><td>10</td></tr>\n",
       "\t<tr><td>103</td><td>10</td></tr>\n",
       "\t<tr><td>201</td><td>20</td></tr>\n",
       "\t<tr><td>202</td><td>20</td></tr>\n",
       "\t<tr><td>301</td><td>30</td></tr>\n",
       "\t<tr><td>302</td><td>30</td></tr>\n",
       "\t<tr><td>303</td><td>30</td></tr>\n",
       "\t<tr><td>304</td><td>30</td></tr>\n",
       "\t<tr><td>305</td><td>30</td></tr>\n",
       "</tbody>\n",
       "</table>\n"
      ],
      "text/latex": [
       "A data.frame: 10 × 2\n",
       "\\begin{tabular}{ll}\n",
       " bg & trt\\\\\n",
       " <int> & <fct>\\\\\n",
       "\\hline\n",
       "\t 101 & 10\\\\\n",
       "\t 102 & 10\\\\\n",
       "\t 103 & 10\\\\\n",
       "\t 201 & 20\\\\\n",
       "\t 202 & 20\\\\\n",
       "\t 301 & 30\\\\\n",
       "\t 302 & 30\\\\\n",
       "\t 303 & 30\\\\\n",
       "\t 304 & 30\\\\\n",
       "\t 305 & 30\\\\\n",
       "\\end{tabular}\n"
      ],
      "text/markdown": [
       "\n",
       "A data.frame: 10 × 2\n",
       "\n",
       "| bg &lt;int&gt; | trt &lt;fct&gt; |\n",
       "|---|---|\n",
       "| 101 | 10 |\n",
       "| 102 | 10 |\n",
       "| 103 | 10 |\n",
       "| 201 | 20 |\n",
       "| 202 | 20 |\n",
       "| 301 | 30 |\n",
       "| 302 | 30 |\n",
       "| 303 | 30 |\n",
       "| 304 | 30 |\n",
       "| 305 | 30 |\n",
       "\n"
      ],
      "text/plain": [
       "   bg  trt\n",
       "1  101 10 \n",
       "2  102 10 \n",
       "3  103 10 \n",
       "4  201 20 \n",
       "5  202 20 \n",
       "6  301 30 \n",
       "7  302 30 \n",
       "8  303 30 \n",
       "9  304 30 \n",
       "10 305 30 "
      ]
     },
     "metadata": {},
     "output_type": "display_data"
    }
   ],
   "source": [
    "geo_lookup"
   ]
  },
  {
   "cell_type": "markdown",
   "metadata": {},
   "source": [
    "## Prep P-MEDM Inputs"
   ]
  },
  {
   "cell_type": "code",
   "execution_count": 8,
   "metadata": {},
   "outputs": [
    {
     "name": "stderr",
     "output_type": "stream",
     "text": [
      "Loading required package: Rcpp\n",
      "\n",
      "Loading required package: RcppEigen\n",
      "\n",
      "Loading required package: Matrix\n",
      "\n"
     ]
    }
   ],
   "source": [
    "## we'll use this to benchmark the \"homebrew\" P-MEDM optimizer\n",
    "## but it also loads some required libraries with it\n",
    "library(PMEDMrcpp)"
   ]
  },
  {
   "cell_type": "code",
   "execution_count": 9,
   "metadata": {},
   "outputs": [],
   "source": [
    "# person IDs\n",
    "serial <- constraints_ind$SERIAL"
   ]
  },
  {
   "cell_type": "code",
   "execution_count": 10,
   "metadata": {},
   "outputs": [],
   "source": [
    "# sample weights\n",
    "wt <- constraints_ind$PERWT"
   ]
  },
  {
   "cell_type": "code",
   "execution_count": 11,
   "metadata": {},
   "outputs": [],
   "source": [
    "# population size\n",
    "N <- sum(constraints_bg$POP)"
   ]
  },
  {
   "cell_type": "code",
   "execution_count": 12,
   "metadata": {},
   "outputs": [],
   "source": [
    "# sample size\n",
    "n <- nrow(constraints_ind)"
   ]
  },
  {
   "cell_type": "markdown",
   "metadata": {},
   "source": [
    "### Individual (PUMS) Constraints"
   ]
  },
  {
   "cell_type": "code",
   "execution_count": 13,
   "metadata": {},
   "outputs": [],
   "source": [
    "## PUMS constraints\n",
    "pX <- as.matrix(constraints_ind[,-c(1:2)])\n",
    "pX <- list(drop0(pX), drop0(pX))"
   ]
  },
  {
   "cell_type": "markdown",
   "metadata": {},
   "source": [
    "Each element in the list just gives the PUMS constraints (`constraints_ind`) in sparse matrix format:"
   ]
  },
  {
   "cell_type": "code",
   "execution_count": 14,
   "metadata": {},
   "outputs": [
    {
     "data": {
      "text/plain": [
       "15 x 4 sparse Matrix of class \"dgCMatrix\"\n",
       "      POP CONST1 CONST2 CONST3\n",
       " [1,]   1      1      .      .\n",
       " [2,]   1      .      .      1\n",
       " [3,]   1      1      1      .\n",
       " [4,]   1      .      1      .\n",
       " [5,]   1      1      1      1\n",
       " [6,]   1      .      .      .\n",
       " [7,]   1      1      .      .\n",
       " [8,]   1      1      .      1\n",
       " [9,]   1      1      1      .\n",
       "[10,]   1      1      .      1\n",
       "[11,]   1      1      .      .\n",
       "[12,]   1      .      .      1\n",
       "[13,]   1      .      1      .\n",
       "[14,]   1      .      .      1\n",
       "[15,]   1      .      .      1"
      ]
     },
     "metadata": {},
     "output_type": "display_data"
    }
   ],
   "source": [
    "pX[[1]]"
   ]
  },
  {
   "cell_type": "markdown",
   "metadata": {},
   "source": [
    "### Geographic Constraints"
   ]
  },
  {
   "cell_type": "markdown",
   "metadata": {},
   "source": [
    "First, ID the constraint columns representing estimates and the constraint columns representing standard errors:"
   ]
  },
  {
   "cell_type": "code",
   "execution_count": 15,
   "metadata": {},
   "outputs": [],
   "source": [
    "geocon <- names(constraints_bg)[-1] # all column names (excluding GEOID)\n",
    "est_cols <- geocon[!endsWith(geocon, 's')] # estimates\n",
    "se_cols <- geocon[endsWith(geocon, 's')] # standard errors"
   ]
  },
  {
   "cell_type": "markdown",
   "metadata": {},
   "source": [
    "Next, make a dual matrix (list) of the **geographic constraint estimates** `Y`, ordered from the upper level to the target level:"
   ]
  },
  {
   "cell_type": "code",
   "execution_count": 16,
   "metadata": {},
   "outputs": [],
   "source": [
    "Y <- list(constraints_trt[,est_cols],\n",
    "          constraints_bg[,est_cols])"
   ]
  },
  {
   "cell_type": "code",
   "execution_count": 17,
   "metadata": {},
   "outputs": [
    {
     "data": {
      "text/html": [
       "<ol>\n",
       "\t<li><table>\n",
       "<caption>A data.frame: 3 × 4</caption>\n",
       "<thead>\n",
       "\t<tr><th scope=col>POP</th><th scope=col>CONST1</th><th scope=col>CONST2</th><th scope=col>CONST3</th></tr>\n",
       "\t<tr><th scope=col>&lt;int&gt;</th><th scope=col>&lt;int&gt;</th><th scope=col>&lt;int&gt;</th><th scope=col>&lt;int&gt;</th></tr>\n",
       "</thead>\n",
       "<tbody>\n",
       "\t<tr><td>344</td><td>152</td><td>101</td><td>175</td></tr>\n",
       "\t<tr><td>260</td><td> 84</td><td>106</td><td>107</td></tr>\n",
       "\t<tr><td>682</td><td>200</td><td>242</td><td>293</td></tr>\n",
       "</tbody>\n",
       "</table>\n",
       "</li>\n",
       "\t<li><table>\n",
       "<caption>A data.frame: 10 × 4</caption>\n",
       "<thead>\n",
       "\t<tr><th scope=col>POP</th><th scope=col>CONST1</th><th scope=col>CONST2</th><th scope=col>CONST3</th></tr>\n",
       "\t<tr><th scope=col>&lt;int&gt;</th><th scope=col>&lt;int&gt;</th><th scope=col>&lt;int&gt;</th><th scope=col>&lt;int&gt;</th></tr>\n",
       "</thead>\n",
       "<tbody>\n",
       "\t<tr><td>112</td><td>78</td><td>12</td><td>23</td></tr>\n",
       "\t<tr><td>122</td><td>47</td><td>18</td><td>94</td></tr>\n",
       "\t<tr><td>110</td><td>27</td><td>71</td><td>58</td></tr>\n",
       "\t<tr><td>110</td><td>53</td><td>10</td><td>67</td></tr>\n",
       "\t<tr><td>150</td><td>31</td><td>96</td><td>40</td></tr>\n",
       "\t<tr><td>136</td><td>49</td><td>28</td><td>58</td></tr>\n",
       "\t<tr><td>144</td><td>13</td><td>42</td><td>74</td></tr>\n",
       "\t<tr><td>148</td><td>13</td><td>61</td><td>31</td></tr>\n",
       "\t<tr><td>122</td><td>81</td><td>33</td><td>52</td></tr>\n",
       "\t<tr><td>132</td><td>44</td><td>78</td><td>78</td></tr>\n",
       "</tbody>\n",
       "</table>\n",
       "</li>\n",
       "</ol>\n"
      ],
      "text/latex": [
       "\\begin{enumerate}\n",
       "\\item A data.frame: 3 × 4\n",
       "\\begin{tabular}{llll}\n",
       " POP & CONST1 & CONST2 & CONST3\\\\\n",
       " <int> & <int> & <int> & <int>\\\\\n",
       "\\hline\n",
       "\t 344 & 152 & 101 & 175\\\\\n",
       "\t 260 &  84 & 106 & 107\\\\\n",
       "\t 682 & 200 & 242 & 293\\\\\n",
       "\\end{tabular}\n",
       "\n",
       "\\item A data.frame: 10 × 4\n",
       "\\begin{tabular}{llll}\n",
       " POP & CONST1 & CONST2 & CONST3\\\\\n",
       " <int> & <int> & <int> & <int>\\\\\n",
       "\\hline\n",
       "\t 112 & 78 & 12 & 23\\\\\n",
       "\t 122 & 47 & 18 & 94\\\\\n",
       "\t 110 & 27 & 71 & 58\\\\\n",
       "\t 110 & 53 & 10 & 67\\\\\n",
       "\t 150 & 31 & 96 & 40\\\\\n",
       "\t 136 & 49 & 28 & 58\\\\\n",
       "\t 144 & 13 & 42 & 74\\\\\n",
       "\t 148 & 13 & 61 & 31\\\\\n",
       "\t 122 & 81 & 33 & 52\\\\\n",
       "\t 132 & 44 & 78 & 78\\\\\n",
       "\\end{tabular}\n",
       "\n",
       "\\end{enumerate}\n"
      ],
      "text/markdown": [
       "1. \n",
       "A data.frame: 3 × 4\n",
       "\n",
       "| POP &lt;int&gt; | CONST1 &lt;int&gt; | CONST2 &lt;int&gt; | CONST3 &lt;int&gt; |\n",
       "|---|---|---|---|\n",
       "| 344 | 152 | 101 | 175 |\n",
       "| 260 |  84 | 106 | 107 |\n",
       "| 682 | 200 | 242 | 293 |\n",
       "\n",
       "\n",
       "2. \n",
       "A data.frame: 10 × 4\n",
       "\n",
       "| POP &lt;int&gt; | CONST1 &lt;int&gt; | CONST2 &lt;int&gt; | CONST3 &lt;int&gt; |\n",
       "|---|---|---|---|\n",
       "| 112 | 78 | 12 | 23 |\n",
       "| 122 | 47 | 18 | 94 |\n",
       "| 110 | 27 | 71 | 58 |\n",
       "| 110 | 53 | 10 | 67 |\n",
       "| 150 | 31 | 96 | 40 |\n",
       "| 136 | 49 | 28 | 58 |\n",
       "| 144 | 13 | 42 | 74 |\n",
       "| 148 | 13 | 61 | 31 |\n",
       "| 122 | 81 | 33 | 52 |\n",
       "| 132 | 44 | 78 | 78 |\n",
       "\n",
       "\n",
       "\n",
       "\n"
      ],
      "text/plain": [
       "[[1]]\n",
       "  POP CONST1 CONST2 CONST3\n",
       "1 344    152    101    175\n",
       "2 260     84    106    107\n",
       "3 682    200    242    293\n",
       "\n",
       "[[2]]\n",
       "   POP CONST1 CONST2 CONST3\n",
       "1  112     78     12     23\n",
       "2  122     47     18     94\n",
       "3  110     27     71     58\n",
       "4  110     53     10     67\n",
       "5  150     31     96     40\n",
       "6  136     49     28     58\n",
       "7  144     13     42     74\n",
       "8  148     13     61     31\n",
       "9  122     81     33     52\n",
       "10 132     44     78     78\n"
      ]
     },
     "metadata": {},
     "output_type": "display_data"
    }
   ],
   "source": [
    "Y"
   ]
  },
  {
   "cell_type": "markdown",
   "metadata": {},
   "source": [
    "Then another for the **error variances** `V` based on `se_cols`:"
   ]
  },
  {
   "cell_type": "code",
   "execution_count": 18,
   "metadata": {},
   "outputs": [],
   "source": [
    "V <- list(constraints_trt[,se_cols]^2,\n",
    "          constraints_bg[,se_cols]^2)"
   ]
  },
  {
   "cell_type": "code",
   "execution_count": 19,
   "metadata": {},
   "outputs": [
    {
     "data": {
      "text/html": [
       "<ol>\n",
       "\t<li><table>\n",
       "<caption>A data.frame: 3 × 4</caption>\n",
       "<thead>\n",
       "\t<tr><th scope=col>POPs</th><th scope=col>CONST1s</th><th scope=col>CONST2s</th><th scope=col>CONST3s</th></tr>\n",
       "\t<tr><th scope=col>&lt;dbl&gt;</th><th scope=col>&lt;dbl&gt;</th><th scope=col>&lt;dbl&gt;</th><th scope=col>&lt;dbl&gt;</th></tr>\n",
       "</thead>\n",
       "<tbody>\n",
       "\t<tr><td>89</td><td> 61</td><td>152</td><td>125</td></tr>\n",
       "\t<tr><td>18</td><td> 58</td><td> 68</td><td> 61</td></tr>\n",
       "\t<tr><td>70</td><td>156</td><td>206</td><td>100</td></tr>\n",
       "</tbody>\n",
       "</table>\n",
       "</li>\n",
       "\t<li><table>\n",
       "<caption>A data.frame: 10 × 4</caption>\n",
       "<thead>\n",
       "\t<tr><th scope=col>POPs</th><th scope=col>CONST1s</th><th scope=col>CONST2s</th><th scope=col>CONST3s</th></tr>\n",
       "\t<tr><th scope=col>&lt;dbl&gt;</th><th scope=col>&lt;dbl&gt;</th><th scope=col>&lt;dbl&gt;</th><th scope=col>&lt;dbl&gt;</th></tr>\n",
       "</thead>\n",
       "<tbody>\n",
       "\t<tr><td>36</td><td>36</td><td> 36</td><td>  9</td></tr>\n",
       "\t<tr><td>49</td><td> 9</td><td> 16</td><td> 16</td></tr>\n",
       "\t<tr><td> 4</td><td>16</td><td>100</td><td>100</td></tr>\n",
       "\t<tr><td> 9</td><td> 9</td><td> 64</td><td> 25</td></tr>\n",
       "\t<tr><td> 9</td><td>49</td><td>  4</td><td> 36</td></tr>\n",
       "\t<tr><td>16</td><td>36</td><td> 64</td><td> 25</td></tr>\n",
       "\t<tr><td> 9</td><td>36</td><td> 16</td><td>  9</td></tr>\n",
       "\t<tr><td> 4</td><td> 4</td><td> 81</td><td> 25</td></tr>\n",
       "\t<tr><td>25</td><td>64</td><td> 36</td><td> 25</td></tr>\n",
       "\t<tr><td>16</td><td>16</td><td>  9</td><td> 16</td></tr>\n",
       "</tbody>\n",
       "</table>\n",
       "</li>\n",
       "</ol>\n"
      ],
      "text/latex": [
       "\\begin{enumerate}\n",
       "\\item A data.frame: 3 × 4\n",
       "\\begin{tabular}{llll}\n",
       " POPs & CONST1s & CONST2s & CONST3s\\\\\n",
       " <dbl> & <dbl> & <dbl> & <dbl>\\\\\n",
       "\\hline\n",
       "\t 89 &  61 & 152 & 125\\\\\n",
       "\t 18 &  58 &  68 &  61\\\\\n",
       "\t 70 & 156 & 206 & 100\\\\\n",
       "\\end{tabular}\n",
       "\n",
       "\\item A data.frame: 10 × 4\n",
       "\\begin{tabular}{llll}\n",
       " POPs & CONST1s & CONST2s & CONST3s\\\\\n",
       " <dbl> & <dbl> & <dbl> & <dbl>\\\\\n",
       "\\hline\n",
       "\t 36 & 36 &  36 &   9\\\\\n",
       "\t 49 &  9 &  16 &  16\\\\\n",
       "\t  4 & 16 & 100 & 100\\\\\n",
       "\t  9 &  9 &  64 &  25\\\\\n",
       "\t  9 & 49 &   4 &  36\\\\\n",
       "\t 16 & 36 &  64 &  25\\\\\n",
       "\t  9 & 36 &  16 &   9\\\\\n",
       "\t  4 &  4 &  81 &  25\\\\\n",
       "\t 25 & 64 &  36 &  25\\\\\n",
       "\t 16 & 16 &   9 &  16\\\\\n",
       "\\end{tabular}\n",
       "\n",
       "\\end{enumerate}\n"
      ],
      "text/markdown": [
       "1. \n",
       "A data.frame: 3 × 4\n",
       "\n",
       "| POPs &lt;dbl&gt; | CONST1s &lt;dbl&gt; | CONST2s &lt;dbl&gt; | CONST3s &lt;dbl&gt; |\n",
       "|---|---|---|---|\n",
       "| 89 |  61 | 152 | 125 |\n",
       "| 18 |  58 |  68 |  61 |\n",
       "| 70 | 156 | 206 | 100 |\n",
       "\n",
       "\n",
       "2. \n",
       "A data.frame: 10 × 4\n",
       "\n",
       "| POPs &lt;dbl&gt; | CONST1s &lt;dbl&gt; | CONST2s &lt;dbl&gt; | CONST3s &lt;dbl&gt; |\n",
       "|---|---|---|---|\n",
       "| 36 | 36 |  36 |   9 |\n",
       "| 49 |  9 |  16 |  16 |\n",
       "|  4 | 16 | 100 | 100 |\n",
       "|  9 |  9 |  64 |  25 |\n",
       "|  9 | 49 |   4 |  36 |\n",
       "| 16 | 36 |  64 |  25 |\n",
       "|  9 | 36 |  16 |   9 |\n",
       "|  4 |  4 |  81 |  25 |\n",
       "| 25 | 64 |  36 |  25 |\n",
       "| 16 | 16 |   9 |  16 |\n",
       "\n",
       "\n",
       "\n",
       "\n"
      ],
      "text/plain": [
       "[[1]]\n",
       "  POPs CONST1s CONST2s CONST3s\n",
       "1   89      61     152     125\n",
       "2   18      58      68      61\n",
       "3   70     156     206     100\n",
       "\n",
       "[[2]]\n",
       "   POPs CONST1s CONST2s CONST3s\n",
       "1    36      36      36       9\n",
       "2    49       9      16      16\n",
       "3     4      16     100     100\n",
       "4     9       9      64      25\n",
       "5     9      49       4      36\n",
       "6    16      36      64      25\n",
       "7     9      36      16       9\n",
       "8     4       4      81      25\n",
       "9    25      64      36      25\n",
       "10   16      16       9      16\n"
      ]
     },
     "metadata": {},
     "output_type": "display_data"
    }
   ],
   "source": [
    "V"
   ]
  },
  {
   "cell_type": "markdown",
   "metadata": {},
   "source": [
    "### Linking Geographies"
   ]
  },
  {
   "cell_type": "markdown",
   "metadata": {},
   "source": [
    "Now we need a way to link the upper and target geographic constraint levels. This is done based on `geo_lookup`. "
   ]
  },
  {
   "cell_type": "markdown",
   "metadata": {},
   "source": [
    "First, generate a **crosswalk** between the upper and target levels (a matrix of $n$ upper units by $m$ target units):"
   ]
  },
  {
   "cell_type": "code",
   "execution_count": 20,
   "metadata": {},
   "outputs": [],
   "source": [
    "A1 <- do.call('rbind', lapply(unique(geo_lookup[,2]),function(g){\n",
    "  nbt <- geo_lookup[geo_lookup[,2] == g,][,1]\n",
    "  ifelse(geo_lookup[,1] %in% nbt, 1, 0)\n",
    "}))\n",
    "\n",
    "rownames(A1) <- unique(geo_lookup[,2])\n",
    "colnames(A1) <- geo_lookup[,1]"
   ]
  },
  {
   "cell_type": "code",
   "execution_count": 21,
   "metadata": {},
   "outputs": [
    {
     "data": {
      "text/html": [
       "<table>\n",
       "<caption>A matrix: 3 × 10 of type dbl</caption>\n",
       "<thead>\n",
       "\t<tr><th></th><th scope=col>101</th><th scope=col>102</th><th scope=col>103</th><th scope=col>201</th><th scope=col>202</th><th scope=col>301</th><th scope=col>302</th><th scope=col>303</th><th scope=col>304</th><th scope=col>305</th></tr>\n",
       "</thead>\n",
       "<tbody>\n",
       "\t<tr><th scope=row>10</th><td>1</td><td>1</td><td>1</td><td>0</td><td>0</td><td>0</td><td>0</td><td>0</td><td>0</td><td>0</td></tr>\n",
       "\t<tr><th scope=row>20</th><td>0</td><td>0</td><td>0</td><td>1</td><td>1</td><td>0</td><td>0</td><td>0</td><td>0</td><td>0</td></tr>\n",
       "\t<tr><th scope=row>30</th><td>0</td><td>0</td><td>0</td><td>0</td><td>0</td><td>1</td><td>1</td><td>1</td><td>1</td><td>1</td></tr>\n",
       "</tbody>\n",
       "</table>\n"
      ],
      "text/latex": [
       "A matrix: 3 × 10 of type dbl\n",
       "\\begin{tabular}{r|llllllllll}\n",
       "  & 101 & 102 & 103 & 201 & 202 & 301 & 302 & 303 & 304 & 305\\\\\n",
       "\\hline\n",
       "\t10 & 1 & 1 & 1 & 0 & 0 & 0 & 0 & 0 & 0 & 0\\\\\n",
       "\t20 & 0 & 0 & 0 & 1 & 1 & 0 & 0 & 0 & 0 & 0\\\\\n",
       "\t30 & 0 & 0 & 0 & 0 & 0 & 1 & 1 & 1 & 1 & 1\\\\\n",
       "\\end{tabular}\n"
      ],
      "text/markdown": [
       "\n",
       "A matrix: 3 × 10 of type dbl\n",
       "\n",
       "| <!--/--> | 101 | 102 | 103 | 201 | 202 | 301 | 302 | 303 | 304 | 305 |\n",
       "|---|---|---|---|---|---|---|---|---|---|---|\n",
       "| 10 | 1 | 1 | 1 | 0 | 0 | 0 | 0 | 0 | 0 | 0 |\n",
       "| 20 | 0 | 0 | 0 | 1 | 1 | 0 | 0 | 0 | 0 | 0 |\n",
       "| 30 | 0 | 0 | 0 | 0 | 0 | 1 | 1 | 1 | 1 | 1 |\n",
       "\n"
      ],
      "text/plain": [
       "   101 102 103 201 202 301 302 303 304 305\n",
       "10 1   1   1   0   0   0   0   0   0   0  \n",
       "20 0   0   0   1   1   0   0   0   0   0  \n",
       "30 0   0   0   0   0   1   1   1   1   1  "
      ]
     },
     "metadata": {},
     "output_type": "display_data"
    }
   ],
   "source": [
    "A1"
   ]
  },
  {
   "cell_type": "code",
   "execution_count": 22,
   "metadata": {},
   "outputs": [],
   "source": [
    "# convert it to sparse matrix format\n",
    "A1 <- as(A1,'dgCMatrix')"
   ]
  },
  {
   "cell_type": "markdown",
   "metadata": {},
   "source": [
    "Then generate an **identity matrix** for the target units:"
   ]
  },
  {
   "cell_type": "code",
   "execution_count": 23,
   "metadata": {},
   "outputs": [],
   "source": [
    "A2 <- do.call('rbind',lapply(geo_lookup[,1],function(g){\n",
    "  ifelse(geo_lookup[,1] %in% g,1,0)\n",
    "}))\n",
    "rownames(A2) <- geo_lookup[,1]\n",
    "colnames(A2) <- geo_lookup[,1]"
   ]
  },
  {
   "cell_type": "code",
   "execution_count": 24,
   "metadata": {},
   "outputs": [
    {
     "data": {
      "text/html": [
       "<table>\n",
       "<caption>A matrix: 10 × 10 of type dbl</caption>\n",
       "<thead>\n",
       "\t<tr><th></th><th scope=col>101</th><th scope=col>102</th><th scope=col>103</th><th scope=col>201</th><th scope=col>202</th><th scope=col>301</th><th scope=col>302</th><th scope=col>303</th><th scope=col>304</th><th scope=col>305</th></tr>\n",
       "</thead>\n",
       "<tbody>\n",
       "\t<tr><th scope=row>101</th><td>1</td><td>0</td><td>0</td><td>0</td><td>0</td><td>0</td><td>0</td><td>0</td><td>0</td><td>0</td></tr>\n",
       "\t<tr><th scope=row>102</th><td>0</td><td>1</td><td>0</td><td>0</td><td>0</td><td>0</td><td>0</td><td>0</td><td>0</td><td>0</td></tr>\n",
       "\t<tr><th scope=row>103</th><td>0</td><td>0</td><td>1</td><td>0</td><td>0</td><td>0</td><td>0</td><td>0</td><td>0</td><td>0</td></tr>\n",
       "\t<tr><th scope=row>201</th><td>0</td><td>0</td><td>0</td><td>1</td><td>0</td><td>0</td><td>0</td><td>0</td><td>0</td><td>0</td></tr>\n",
       "\t<tr><th scope=row>202</th><td>0</td><td>0</td><td>0</td><td>0</td><td>1</td><td>0</td><td>0</td><td>0</td><td>0</td><td>0</td></tr>\n",
       "\t<tr><th scope=row>301</th><td>0</td><td>0</td><td>0</td><td>0</td><td>0</td><td>1</td><td>0</td><td>0</td><td>0</td><td>0</td></tr>\n",
       "\t<tr><th scope=row>302</th><td>0</td><td>0</td><td>0</td><td>0</td><td>0</td><td>0</td><td>1</td><td>0</td><td>0</td><td>0</td></tr>\n",
       "\t<tr><th scope=row>303</th><td>0</td><td>0</td><td>0</td><td>0</td><td>0</td><td>0</td><td>0</td><td>1</td><td>0</td><td>0</td></tr>\n",
       "\t<tr><th scope=row>304</th><td>0</td><td>0</td><td>0</td><td>0</td><td>0</td><td>0</td><td>0</td><td>0</td><td>1</td><td>0</td></tr>\n",
       "\t<tr><th scope=row>305</th><td>0</td><td>0</td><td>0</td><td>0</td><td>0</td><td>0</td><td>0</td><td>0</td><td>0</td><td>1</td></tr>\n",
       "</tbody>\n",
       "</table>\n"
      ],
      "text/latex": [
       "A matrix: 10 × 10 of type dbl\n",
       "\\begin{tabular}{r|llllllllll}\n",
       "  & 101 & 102 & 103 & 201 & 202 & 301 & 302 & 303 & 304 & 305\\\\\n",
       "\\hline\n",
       "\t101 & 1 & 0 & 0 & 0 & 0 & 0 & 0 & 0 & 0 & 0\\\\\n",
       "\t102 & 0 & 1 & 0 & 0 & 0 & 0 & 0 & 0 & 0 & 0\\\\\n",
       "\t103 & 0 & 0 & 1 & 0 & 0 & 0 & 0 & 0 & 0 & 0\\\\\n",
       "\t201 & 0 & 0 & 0 & 1 & 0 & 0 & 0 & 0 & 0 & 0\\\\\n",
       "\t202 & 0 & 0 & 0 & 0 & 1 & 0 & 0 & 0 & 0 & 0\\\\\n",
       "\t301 & 0 & 0 & 0 & 0 & 0 & 1 & 0 & 0 & 0 & 0\\\\\n",
       "\t302 & 0 & 0 & 0 & 0 & 0 & 0 & 1 & 0 & 0 & 0\\\\\n",
       "\t303 & 0 & 0 & 0 & 0 & 0 & 0 & 0 & 1 & 0 & 0\\\\\n",
       "\t304 & 0 & 0 & 0 & 0 & 0 & 0 & 0 & 0 & 1 & 0\\\\\n",
       "\t305 & 0 & 0 & 0 & 0 & 0 & 0 & 0 & 0 & 0 & 1\\\\\n",
       "\\end{tabular}\n"
      ],
      "text/markdown": [
       "\n",
       "A matrix: 10 × 10 of type dbl\n",
       "\n",
       "| <!--/--> | 101 | 102 | 103 | 201 | 202 | 301 | 302 | 303 | 304 | 305 |\n",
       "|---|---|---|---|---|---|---|---|---|---|---|\n",
       "| 101 | 1 | 0 | 0 | 0 | 0 | 0 | 0 | 0 | 0 | 0 |\n",
       "| 102 | 0 | 1 | 0 | 0 | 0 | 0 | 0 | 0 | 0 | 0 |\n",
       "| 103 | 0 | 0 | 1 | 0 | 0 | 0 | 0 | 0 | 0 | 0 |\n",
       "| 201 | 0 | 0 | 0 | 1 | 0 | 0 | 0 | 0 | 0 | 0 |\n",
       "| 202 | 0 | 0 | 0 | 0 | 1 | 0 | 0 | 0 | 0 | 0 |\n",
       "| 301 | 0 | 0 | 0 | 0 | 0 | 1 | 0 | 0 | 0 | 0 |\n",
       "| 302 | 0 | 0 | 0 | 0 | 0 | 0 | 1 | 0 | 0 | 0 |\n",
       "| 303 | 0 | 0 | 0 | 0 | 0 | 0 | 0 | 1 | 0 | 0 |\n",
       "| 304 | 0 | 0 | 0 | 0 | 0 | 0 | 0 | 0 | 1 | 0 |\n",
       "| 305 | 0 | 0 | 0 | 0 | 0 | 0 | 0 | 0 | 0 | 1 |\n",
       "\n"
      ],
      "text/plain": [
       "    101 102 103 201 202 301 302 303 304 305\n",
       "101 1   0   0   0   0   0   0   0   0   0  \n",
       "102 0   1   0   0   0   0   0   0   0   0  \n",
       "103 0   0   1   0   0   0   0   0   0   0  \n",
       "201 0   0   0   1   0   0   0   0   0   0  \n",
       "202 0   0   0   0   1   0   0   0   0   0  \n",
       "301 0   0   0   0   0   1   0   0   0   0  \n",
       "302 0   0   0   0   0   0   1   0   0   0  \n",
       "303 0   0   0   0   0   0   0   1   0   0  \n",
       "304 0   0   0   0   0   0   0   0   1   0  \n",
       "305 0   0   0   0   0   0   0   0   0   1  "
      ]
     },
     "metadata": {},
     "output_type": "display_data"
    }
   ],
   "source": [
    "A2"
   ]
  },
  {
   "cell_type": "code",
   "execution_count": 25,
   "metadata": {},
   "outputs": [],
   "source": [
    "# convert it to sparse matrix format\n",
    "A2 <- as(A2,'dgCMatrix')"
   ]
  },
  {
   "cell_type": "code",
   "execution_count": 26,
   "metadata": {},
   "outputs": [],
   "source": [
    "# combine A1 and A2 in to a dual matrix\n",
    "A <- list(A1,A2)"
   ]
  },
  {
   "cell_type": "markdown",
   "metadata": {},
   "source": [
    "### Linking the PUMS constraints to Geographies"
   ]
  },
  {
   "cell_type": "markdown",
   "metadata": {},
   "source": [
    "Create a dual matrix, `X` which is kind of like the \"solution space\" for the P-MEDM problem. It consists of: \n",
    "\n",
    "1. The kroenecker product of the PUMS constraints `pX` and the geographic crosswalk `A1`.\n",
    "2. The kroenecker product of the PUMS constraints `pX` and the target level identity matrix `A2`"
   ]
  },
  {
   "cell_type": "code",
   "execution_count": 27,
   "metadata": {},
   "outputs": [],
   "source": [
    "# Create X matrix\n",
    "X <- t(rbind(kronecker(t(pX[[1]]), A[[1]]),\n",
    "             kronecker(t(pX[[2]]), A[[2]])))"
   ]
  },
  {
   "cell_type": "markdown",
   "metadata": {},
   "source": [
    "`X` is not really \"human readable\" like the other inputs, but uncomment and run if you're curious:"
   ]
  },
  {
   "cell_type": "code",
   "execution_count": 28,
   "metadata": {},
   "outputs": [],
   "source": [
    "# X"
   ]
  },
  {
   "cell_type": "code",
   "execution_count": 29,
   "metadata": {},
   "outputs": [],
   "source": [
    "# convert it to sparse matrix\n",
    "X <- as(X, 'dgCMatrix')"
   ]
  },
  {
   "cell_type": "markdown",
   "metadata": {},
   "source": [
    "#### Design Weights"
   ]
  },
  {
   "cell_type": "markdown",
   "metadata": {},
   "source": [
    "The **design weights** `q` are the prior estimate of the P-MEDM allocation matrix. The assumption is that each PUMS record has an equal probability of being found in each target unit, relative to the sample weight's share of the total population. "
   ]
  },
  {
   "cell_type": "code",
   "execution_count": 30,
   "metadata": {},
   "outputs": [],
   "source": [
    "# Create design weights and normalize\n",
    "q <- matrix(wt, n, dim(A[[1]])[2])\n",
    "q <- q/sum(q)\n",
    "rownames(q) <- serial\n",
    "colnames(q) <- colnames(A[[1]])"
   ]
  },
  {
   "cell_type": "code",
   "execution_count": 31,
   "metadata": {},
   "outputs": [
    {
     "data": {
      "text/html": [
       "<table>\n",
       "<caption>A matrix: 15 × 10 of type dbl</caption>\n",
       "<thead>\n",
       "\t<tr><th></th><th scope=col>101</th><th scope=col>102</th><th scope=col>103</th><th scope=col>201</th><th scope=col>202</th><th scope=col>301</th><th scope=col>302</th><th scope=col>303</th><th scope=col>304</th><th scope=col>305</th></tr>\n",
       "</thead>\n",
       "<tbody>\n",
       "\t<tr><th scope=row>p1</th><td>0.001863354</td><td>0.001863354</td><td>0.001863354</td><td>0.001863354</td><td>0.001863354</td><td>0.001863354</td><td>0.001863354</td><td>0.001863354</td><td>0.001863354</td><td>0.001863354</td></tr>\n",
       "\t<tr><th scope=row>p2</th><td>0.006133540</td><td>0.006133540</td><td>0.006133540</td><td>0.006133540</td><td>0.006133540</td><td>0.006133540</td><td>0.006133540</td><td>0.006133540</td><td>0.006133540</td><td>0.006133540</td></tr>\n",
       "\t<tr><th scope=row>p3</th><td>0.007375776</td><td>0.007375776</td><td>0.007375776</td><td>0.007375776</td><td>0.007375776</td><td>0.007375776</td><td>0.007375776</td><td>0.007375776</td><td>0.007375776</td><td>0.007375776</td></tr>\n",
       "\t<tr><th scope=row>p4</th><td>0.007375776</td><td>0.007375776</td><td>0.007375776</td><td>0.007375776</td><td>0.007375776</td><td>0.007375776</td><td>0.007375776</td><td>0.007375776</td><td>0.007375776</td><td>0.007375776</td></tr>\n",
       "\t<tr><th scope=row>p5</th><td>0.004270186</td><td>0.004270186</td><td>0.004270186</td><td>0.004270186</td><td>0.004270186</td><td>0.004270186</td><td>0.004270186</td><td>0.004270186</td><td>0.004270186</td><td>0.004270186</td></tr>\n",
       "\t<tr><th scope=row>p6</th><td>0.005357143</td><td>0.005357143</td><td>0.005357143</td><td>0.005357143</td><td>0.005357143</td><td>0.005357143</td><td>0.005357143</td><td>0.005357143</td><td>0.005357143</td><td>0.005357143</td></tr>\n",
       "\t<tr><th scope=row>p7</th><td>0.011956522</td><td>0.011956522</td><td>0.011956522</td><td>0.011956522</td><td>0.011956522</td><td>0.011956522</td><td>0.011956522</td><td>0.011956522</td><td>0.011956522</td><td>0.011956522</td></tr>\n",
       "\t<tr><th scope=row>p8</th><td>0.001863354</td><td>0.001863354</td><td>0.001863354</td><td>0.001863354</td><td>0.001863354</td><td>0.001863354</td><td>0.001863354</td><td>0.001863354</td><td>0.001863354</td><td>0.001863354</td></tr>\n",
       "\t<tr><th scope=row>p9</th><td>0.001552795</td><td>0.001552795</td><td>0.001552795</td><td>0.001552795</td><td>0.001552795</td><td>0.001552795</td><td>0.001552795</td><td>0.001552795</td><td>0.001552795</td><td>0.001552795</td></tr>\n",
       "\t<tr><th scope=row>p10</th><td>0.001086957</td><td>0.001086957</td><td>0.001086957</td><td>0.001086957</td><td>0.001086957</td><td>0.001086957</td><td>0.001086957</td><td>0.001086957</td><td>0.001086957</td><td>0.001086957</td></tr>\n",
       "\t<tr><th scope=row>p11</th><td>0.003493789</td><td>0.003493789</td><td>0.003493789</td><td>0.003493789</td><td>0.003493789</td><td>0.003493789</td><td>0.003493789</td><td>0.003493789</td><td>0.003493789</td><td>0.003493789</td></tr>\n",
       "\t<tr><th scope=row>p12</th><td>0.013897516</td><td>0.013897516</td><td>0.013897516</td><td>0.013897516</td><td>0.013897516</td><td>0.013897516</td><td>0.013897516</td><td>0.013897516</td><td>0.013897516</td><td>0.013897516</td></tr>\n",
       "\t<tr><th scope=row>p13</th><td>0.015295031</td><td>0.015295031</td><td>0.015295031</td><td>0.015295031</td><td>0.015295031</td><td>0.015295031</td><td>0.015295031</td><td>0.015295031</td><td>0.015295031</td><td>0.015295031</td></tr>\n",
       "\t<tr><th scope=row>p14</th><td>0.004425466</td><td>0.004425466</td><td>0.004425466</td><td>0.004425466</td><td>0.004425466</td><td>0.004425466</td><td>0.004425466</td><td>0.004425466</td><td>0.004425466</td><td>0.004425466</td></tr>\n",
       "\t<tr><th scope=row>p15</th><td>0.014052795</td><td>0.014052795</td><td>0.014052795</td><td>0.014052795</td><td>0.014052795</td><td>0.014052795</td><td>0.014052795</td><td>0.014052795</td><td>0.014052795</td><td>0.014052795</td></tr>\n",
       "</tbody>\n",
       "</table>\n"
      ],
      "text/latex": [
       "A matrix: 15 × 10 of type dbl\n",
       "\\begin{tabular}{r|llllllllll}\n",
       "  & 101 & 102 & 103 & 201 & 202 & 301 & 302 & 303 & 304 & 305\\\\\n",
       "\\hline\n",
       "\tp1 & 0.001863354 & 0.001863354 & 0.001863354 & 0.001863354 & 0.001863354 & 0.001863354 & 0.001863354 & 0.001863354 & 0.001863354 & 0.001863354\\\\\n",
       "\tp2 & 0.006133540 & 0.006133540 & 0.006133540 & 0.006133540 & 0.006133540 & 0.006133540 & 0.006133540 & 0.006133540 & 0.006133540 & 0.006133540\\\\\n",
       "\tp3 & 0.007375776 & 0.007375776 & 0.007375776 & 0.007375776 & 0.007375776 & 0.007375776 & 0.007375776 & 0.007375776 & 0.007375776 & 0.007375776\\\\\n",
       "\tp4 & 0.007375776 & 0.007375776 & 0.007375776 & 0.007375776 & 0.007375776 & 0.007375776 & 0.007375776 & 0.007375776 & 0.007375776 & 0.007375776\\\\\n",
       "\tp5 & 0.004270186 & 0.004270186 & 0.004270186 & 0.004270186 & 0.004270186 & 0.004270186 & 0.004270186 & 0.004270186 & 0.004270186 & 0.004270186\\\\\n",
       "\tp6 & 0.005357143 & 0.005357143 & 0.005357143 & 0.005357143 & 0.005357143 & 0.005357143 & 0.005357143 & 0.005357143 & 0.005357143 & 0.005357143\\\\\n",
       "\tp7 & 0.011956522 & 0.011956522 & 0.011956522 & 0.011956522 & 0.011956522 & 0.011956522 & 0.011956522 & 0.011956522 & 0.011956522 & 0.011956522\\\\\n",
       "\tp8 & 0.001863354 & 0.001863354 & 0.001863354 & 0.001863354 & 0.001863354 & 0.001863354 & 0.001863354 & 0.001863354 & 0.001863354 & 0.001863354\\\\\n",
       "\tp9 & 0.001552795 & 0.001552795 & 0.001552795 & 0.001552795 & 0.001552795 & 0.001552795 & 0.001552795 & 0.001552795 & 0.001552795 & 0.001552795\\\\\n",
       "\tp10 & 0.001086957 & 0.001086957 & 0.001086957 & 0.001086957 & 0.001086957 & 0.001086957 & 0.001086957 & 0.001086957 & 0.001086957 & 0.001086957\\\\\n",
       "\tp11 & 0.003493789 & 0.003493789 & 0.003493789 & 0.003493789 & 0.003493789 & 0.003493789 & 0.003493789 & 0.003493789 & 0.003493789 & 0.003493789\\\\\n",
       "\tp12 & 0.013897516 & 0.013897516 & 0.013897516 & 0.013897516 & 0.013897516 & 0.013897516 & 0.013897516 & 0.013897516 & 0.013897516 & 0.013897516\\\\\n",
       "\tp13 & 0.015295031 & 0.015295031 & 0.015295031 & 0.015295031 & 0.015295031 & 0.015295031 & 0.015295031 & 0.015295031 & 0.015295031 & 0.015295031\\\\\n",
       "\tp14 & 0.004425466 & 0.004425466 & 0.004425466 & 0.004425466 & 0.004425466 & 0.004425466 & 0.004425466 & 0.004425466 & 0.004425466 & 0.004425466\\\\\n",
       "\tp15 & 0.014052795 & 0.014052795 & 0.014052795 & 0.014052795 & 0.014052795 & 0.014052795 & 0.014052795 & 0.014052795 & 0.014052795 & 0.014052795\\\\\n",
       "\\end{tabular}\n"
      ],
      "text/markdown": [
       "\n",
       "A matrix: 15 × 10 of type dbl\n",
       "\n",
       "| <!--/--> | 101 | 102 | 103 | 201 | 202 | 301 | 302 | 303 | 304 | 305 |\n",
       "|---|---|---|---|---|---|---|---|---|---|---|\n",
       "| p1 | 0.001863354 | 0.001863354 | 0.001863354 | 0.001863354 | 0.001863354 | 0.001863354 | 0.001863354 | 0.001863354 | 0.001863354 | 0.001863354 |\n",
       "| p2 | 0.006133540 | 0.006133540 | 0.006133540 | 0.006133540 | 0.006133540 | 0.006133540 | 0.006133540 | 0.006133540 | 0.006133540 | 0.006133540 |\n",
       "| p3 | 0.007375776 | 0.007375776 | 0.007375776 | 0.007375776 | 0.007375776 | 0.007375776 | 0.007375776 | 0.007375776 | 0.007375776 | 0.007375776 |\n",
       "| p4 | 0.007375776 | 0.007375776 | 0.007375776 | 0.007375776 | 0.007375776 | 0.007375776 | 0.007375776 | 0.007375776 | 0.007375776 | 0.007375776 |\n",
       "| p5 | 0.004270186 | 0.004270186 | 0.004270186 | 0.004270186 | 0.004270186 | 0.004270186 | 0.004270186 | 0.004270186 | 0.004270186 | 0.004270186 |\n",
       "| p6 | 0.005357143 | 0.005357143 | 0.005357143 | 0.005357143 | 0.005357143 | 0.005357143 | 0.005357143 | 0.005357143 | 0.005357143 | 0.005357143 |\n",
       "| p7 | 0.011956522 | 0.011956522 | 0.011956522 | 0.011956522 | 0.011956522 | 0.011956522 | 0.011956522 | 0.011956522 | 0.011956522 | 0.011956522 |\n",
       "| p8 | 0.001863354 | 0.001863354 | 0.001863354 | 0.001863354 | 0.001863354 | 0.001863354 | 0.001863354 | 0.001863354 | 0.001863354 | 0.001863354 |\n",
       "| p9 | 0.001552795 | 0.001552795 | 0.001552795 | 0.001552795 | 0.001552795 | 0.001552795 | 0.001552795 | 0.001552795 | 0.001552795 | 0.001552795 |\n",
       "| p10 | 0.001086957 | 0.001086957 | 0.001086957 | 0.001086957 | 0.001086957 | 0.001086957 | 0.001086957 | 0.001086957 | 0.001086957 | 0.001086957 |\n",
       "| p11 | 0.003493789 | 0.003493789 | 0.003493789 | 0.003493789 | 0.003493789 | 0.003493789 | 0.003493789 | 0.003493789 | 0.003493789 | 0.003493789 |\n",
       "| p12 | 0.013897516 | 0.013897516 | 0.013897516 | 0.013897516 | 0.013897516 | 0.013897516 | 0.013897516 | 0.013897516 | 0.013897516 | 0.013897516 |\n",
       "| p13 | 0.015295031 | 0.015295031 | 0.015295031 | 0.015295031 | 0.015295031 | 0.015295031 | 0.015295031 | 0.015295031 | 0.015295031 | 0.015295031 |\n",
       "| p14 | 0.004425466 | 0.004425466 | 0.004425466 | 0.004425466 | 0.004425466 | 0.004425466 | 0.004425466 | 0.004425466 | 0.004425466 | 0.004425466 |\n",
       "| p15 | 0.014052795 | 0.014052795 | 0.014052795 | 0.014052795 | 0.014052795 | 0.014052795 | 0.014052795 | 0.014052795 | 0.014052795 | 0.014052795 |\n",
       "\n"
      ],
      "text/plain": [
       "    101         102         103         201         202         301        \n",
       "p1  0.001863354 0.001863354 0.001863354 0.001863354 0.001863354 0.001863354\n",
       "p2  0.006133540 0.006133540 0.006133540 0.006133540 0.006133540 0.006133540\n",
       "p3  0.007375776 0.007375776 0.007375776 0.007375776 0.007375776 0.007375776\n",
       "p4  0.007375776 0.007375776 0.007375776 0.007375776 0.007375776 0.007375776\n",
       "p5  0.004270186 0.004270186 0.004270186 0.004270186 0.004270186 0.004270186\n",
       "p6  0.005357143 0.005357143 0.005357143 0.005357143 0.005357143 0.005357143\n",
       "p7  0.011956522 0.011956522 0.011956522 0.011956522 0.011956522 0.011956522\n",
       "p8  0.001863354 0.001863354 0.001863354 0.001863354 0.001863354 0.001863354\n",
       "p9  0.001552795 0.001552795 0.001552795 0.001552795 0.001552795 0.001552795\n",
       "p10 0.001086957 0.001086957 0.001086957 0.001086957 0.001086957 0.001086957\n",
       "p11 0.003493789 0.003493789 0.003493789 0.003493789 0.003493789 0.003493789\n",
       "p12 0.013897516 0.013897516 0.013897516 0.013897516 0.013897516 0.013897516\n",
       "p13 0.015295031 0.015295031 0.015295031 0.015295031 0.015295031 0.015295031\n",
       "p14 0.004425466 0.004425466 0.004425466 0.004425466 0.004425466 0.004425466\n",
       "p15 0.014052795 0.014052795 0.014052795 0.014052795 0.014052795 0.014052795\n",
       "    302         303         304         305        \n",
       "p1  0.001863354 0.001863354 0.001863354 0.001863354\n",
       "p2  0.006133540 0.006133540 0.006133540 0.006133540\n",
       "p3  0.007375776 0.007375776 0.007375776 0.007375776\n",
       "p4  0.007375776 0.007375776 0.007375776 0.007375776\n",
       "p5  0.004270186 0.004270186 0.004270186 0.004270186\n",
       "p6  0.005357143 0.005357143 0.005357143 0.005357143\n",
       "p7  0.011956522 0.011956522 0.011956522 0.011956522\n",
       "p8  0.001863354 0.001863354 0.001863354 0.001863354\n",
       "p9  0.001552795 0.001552795 0.001552795 0.001552795\n",
       "p10 0.001086957 0.001086957 0.001086957 0.001086957\n",
       "p11 0.003493789 0.003493789 0.003493789 0.003493789\n",
       "p12 0.013897516 0.013897516 0.013897516 0.013897516\n",
       "p13 0.015295031 0.015295031 0.015295031 0.015295031\n",
       "p14 0.004425466 0.004425466 0.004425466 0.004425466\n",
       "p15 0.014052795 0.014052795 0.014052795 0.014052795"
      ]
     },
     "metadata": {},
     "output_type": "display_data"
    }
   ],
   "source": [
    "q"
   ]
  },
  {
   "cell_type": "markdown",
   "metadata": {},
   "source": [
    "To estimate allocation probabilities, `q` is combined with `X` and our coefficients $\\lambda$ \n",
    "\n",
    "[ADD EQUATION!!]\n",
    "\n",
    "By initializing $\\lambda$ at 0, our initial allocation probabilities are equal to `q`. Each successive step in the P-MEDM optimization updates $\\lambda$ and refines the prior allocation given by `q`."
   ]
  },
  {
   "cell_type": "markdown",
   "metadata": {},
   "source": [
    "#### Vectorize Inputs\n",
    "\n",
    "Since P-MEDM is a linear problem, we need to vectorize the constraints (`Y`), error variances (`V`), and design weights (`q`) before running it."
   ]
  },
  {
   "cell_type": "markdown",
   "metadata": {},
   "source": [
    "Convert the geographic constraints `Y` to vector representation and normalize by the population size `N`:"
   ]
  },
  {
   "cell_type": "code",
   "execution_count": 32,
   "metadata": {},
   "outputs": [],
   "source": [
    "Y_vec <- do.call(c, lapply(Y, function(x) as.vector(as.matrix(x)))) / N"
   ]
  },
  {
   "cell_type": "markdown",
   "metadata": {},
   "source": [
    "Vectorize the error variances `V` and then convert the result to a sparse diagonal matrix `sV`. The variances are normalized by $\\frac{n}{N^2}$."
   ]
  },
  {
   "cell_type": "code",
   "execution_count": 33,
   "metadata": {},
   "outputs": [],
   "source": [
    "# vectorize and normalize error variances\n",
    "V_vec <- do.call(c, lapply(V, function(x) as.vector(as.matrix(x)))) * n / N^2"
   ]
  },
  {
   "cell_type": "code",
   "execution_count": 34,
   "metadata": {},
   "outputs": [],
   "source": [
    "# convert V_vec to sparse diagonal matrix\n",
    "sV <- .sparseDiagonal(n=length(V_vec), x=V_vec)\n",
    "sV <- as(sV, 'dgCMatrix')"
   ]
  },
  {
   "cell_type": "markdown",
   "metadata": {},
   "source": [
    "Finally, we need to vectorize the design weights `q` ..."
   ]
  },
  {
   "cell_type": "code",
   "execution_count": 35,
   "metadata": {},
   "outputs": [],
   "source": [
    "q <- as.vector(t(q))"
   ]
  },
  {
   "cell_type": "markdown",
   "metadata": {},
   "source": [
    "### Test P-MEDM \n",
    "\n",
    "Solve the P-MEDM problem using Nagle's Trust Region optimization written in `C++`:"
   ]
  },
  {
   "cell_type": "code",
   "execution_count": 36,
   "metadata": {},
   "outputs": [
    {
     "name": "stdout",
     "output_type": "stream",
     "text": [
      "Using Sparse Hessian Preconditioner\n",
      "Initializing PMEDM solver\n",
      "Starting Trust Region Algorithm\n",
      " iter          fun     ||grad|| ||try step||      act red     pred red     radius inner iter\n",
      "    0 -1.11022e-16     0.124329     0.763953     0.273186     0.291812          1           1\n",
      "    1    -0.273186    0.0945643     0.311729    0.0369958    0.0356125          2          26\n",
      "    2    -0.310181   0.00906781    0.0668392  0.000677079  0.000652461          4          30\n",
      "    3    -0.310858  0.000407683   0.00721177  4.09637e-06  4.06099e-06          8          31\n",
      "    4    -0.310863  6.07852e-06  0.000104071  7.70298e-10  7.70188e-10         16          30\n",
      "    5    -0.310863  1.32371e-09           -            -            -          -           - \n",
      "Solver ended with convergence\n"
     ]
    }
   ],
   "source": [
    "pmedm.nagle <- PMEDM_solve(X, Y_vec, sV, q)"
   ]
  },
  {
   "cell_type": "markdown",
   "metadata": {},
   "source": [
    "We'll write a \"homebrew\" optimization next and compare it to this solution."
   ]
  },
  {
   "cell_type": "markdown",
   "metadata": {},
   "source": [
    "## P-MEDM Optimization from Scratch"
   ]
  },
  {
   "cell_type": "code",
   "execution_count": 37,
   "metadata": {},
   "outputs": [],
   "source": [
    "# contains a function for computing allocation probabilities from q/X/lambda\n",
    "source('../pmedmize/code/reliability.R')"
   ]
  },
  {
   "cell_type": "markdown",
   "metadata": {},
   "source": [
    "First, define some helper functions:"
   ]
  },
  {
   "cell_type": "code",
   "execution_count": 38,
   "metadata": {},
   "outputs": [],
   "source": [
    "### helper functions ###\n",
    "\n",
    "f = function(w, d, n, N, v){\n",
    "  \n",
    "  \"\n",
    "  Base penalized entropy function\n",
    "  \"\n",
    "  \n",
    "  e = d - w\n",
    "  \n",
    "  penalty = (e ** 2 / (2 * v))\n",
    "  \n",
    "  ent = ((n / N) * (w / d) * log((w/d)))\n",
    "  \n",
    "  (-1 * ent) - penalty\n",
    "  \n",
    "}\n",
    "\n",
    "get_parent_ids <- function(XW){\n",
    "    \n",
    "  \"\n",
    "  Gets upper geography GEOIDs from target GEOIDs.\n",
    "  \"\n",
    "  \n",
    "  apply(XW, 2, function(x) rownames(XW)[which(x == 1)])\n",
    "  \n",
    "}\n",
    "\n",
    "agg2parent <- function(pmat, ids){\n",
    "    \n",
    "  \"\n",
    "  Aggregates allocation matrix from the target level to the upper level.\n",
    "  \"\n",
    "  \n",
    "  t(aggregate(t(pmat) ~ ids, FUN = sum)[,-1])\n",
    "  \n",
    "}\n"
   ]
  },
  {
   "cell_type": "markdown",
   "metadata": {},
   "source": [
    "Then the full Penalized Entropy function to maximize. We iterate through this multiple times, at each step it: \n",
    "\n",
    "1. Computes the allocation probabilities from `q`, `X`, and $\\lambda$ (`lambda`) using the `compute_allocation` function. Since we initialize $\\lambda$ at 0, the first run in the optimization uses the design weights `q` as the allocation probabilities.   \n",
    "2. Estimates the geographic constraints `Y` as `Y.hat` at each geographic level. \n",
    "3. Using the Penalized Entropy equation (`f`), compares the \"reconstructed\" and observed constraints (`Y`, `Y.hat`) and computes the loss function value."
   ]
  },
  {
   "cell_type": "markdown",
   "metadata": {},
   "source": [
    "First, let's test this out with the initial values of $\\lambda$ (0)."
   ]
  },
  {
   "cell_type": "code",
   "execution_count": 39,
   "metadata": {},
   "outputs": [],
   "source": [
    "lambda <- rep(0, length(Y_vec))"
   ]
  },
  {
   "cell_type": "markdown",
   "metadata": {},
   "source": [
    "Compute the allocation probabilities:"
   ]
  },
  {
   "cell_type": "code",
   "execution_count": 40,
   "metadata": {},
   "outputs": [],
   "source": [
    "p.hat <- compute_allocation(q, X, lambda)"
   ]
  },
  {
   "cell_type": "markdown",
   "metadata": {},
   "source": [
    "Reshape them into a matrix of $n$ individuals by $m$ units. Notice here that the allocation is the same as `q`."
   ]
  },
  {
   "cell_type": "code",
   "execution_count": 41,
   "metadata": {},
   "outputs": [],
   "source": [
    "p.hat <- reshape_probabilities(p.hat, n, A)"
   ]
  },
  {
   "cell_type": "code",
   "execution_count": 42,
   "metadata": {},
   "outputs": [
    {
     "data": {
      "text/html": [
       "<table>\n",
       "<caption>A matrix: 15 × 10 of type dbl</caption>\n",
       "<tbody>\n",
       "\t<tr><td>0.001863354</td><td>0.001863354</td><td>0.001863354</td><td>0.001863354</td><td>0.001863354</td><td>0.001863354</td><td>0.001863354</td><td>0.001863354</td><td>0.001863354</td><td>0.001863354</td></tr>\n",
       "\t<tr><td>0.006133540</td><td>0.006133540</td><td>0.006133540</td><td>0.006133540</td><td>0.006133540</td><td>0.006133540</td><td>0.006133540</td><td>0.006133540</td><td>0.006133540</td><td>0.006133540</td></tr>\n",
       "\t<tr><td>0.007375776</td><td>0.007375776</td><td>0.007375776</td><td>0.007375776</td><td>0.007375776</td><td>0.007375776</td><td>0.007375776</td><td>0.007375776</td><td>0.007375776</td><td>0.007375776</td></tr>\n",
       "\t<tr><td>0.007375776</td><td>0.007375776</td><td>0.007375776</td><td>0.007375776</td><td>0.007375776</td><td>0.007375776</td><td>0.007375776</td><td>0.007375776</td><td>0.007375776</td><td>0.007375776</td></tr>\n",
       "\t<tr><td>0.004270186</td><td>0.004270186</td><td>0.004270186</td><td>0.004270186</td><td>0.004270186</td><td>0.004270186</td><td>0.004270186</td><td>0.004270186</td><td>0.004270186</td><td>0.004270186</td></tr>\n",
       "\t<tr><td>0.005357143</td><td>0.005357143</td><td>0.005357143</td><td>0.005357143</td><td>0.005357143</td><td>0.005357143</td><td>0.005357143</td><td>0.005357143</td><td>0.005357143</td><td>0.005357143</td></tr>\n",
       "\t<tr><td>0.011956522</td><td>0.011956522</td><td>0.011956522</td><td>0.011956522</td><td>0.011956522</td><td>0.011956522</td><td>0.011956522</td><td>0.011956522</td><td>0.011956522</td><td>0.011956522</td></tr>\n",
       "\t<tr><td>0.001863354</td><td>0.001863354</td><td>0.001863354</td><td>0.001863354</td><td>0.001863354</td><td>0.001863354</td><td>0.001863354</td><td>0.001863354</td><td>0.001863354</td><td>0.001863354</td></tr>\n",
       "\t<tr><td>0.001552795</td><td>0.001552795</td><td>0.001552795</td><td>0.001552795</td><td>0.001552795</td><td>0.001552795</td><td>0.001552795</td><td>0.001552795</td><td>0.001552795</td><td>0.001552795</td></tr>\n",
       "\t<tr><td>0.001086957</td><td>0.001086957</td><td>0.001086957</td><td>0.001086957</td><td>0.001086957</td><td>0.001086957</td><td>0.001086957</td><td>0.001086957</td><td>0.001086957</td><td>0.001086957</td></tr>\n",
       "\t<tr><td>0.003493789</td><td>0.003493789</td><td>0.003493789</td><td>0.003493789</td><td>0.003493789</td><td>0.003493789</td><td>0.003493789</td><td>0.003493789</td><td>0.003493789</td><td>0.003493789</td></tr>\n",
       "\t<tr><td>0.013897516</td><td>0.013897516</td><td>0.013897516</td><td>0.013897516</td><td>0.013897516</td><td>0.013897516</td><td>0.013897516</td><td>0.013897516</td><td>0.013897516</td><td>0.013897516</td></tr>\n",
       "\t<tr><td>0.015295031</td><td>0.015295031</td><td>0.015295031</td><td>0.015295031</td><td>0.015295031</td><td>0.015295031</td><td>0.015295031</td><td>0.015295031</td><td>0.015295031</td><td>0.015295031</td></tr>\n",
       "\t<tr><td>0.004425466</td><td>0.004425466</td><td>0.004425466</td><td>0.004425466</td><td>0.004425466</td><td>0.004425466</td><td>0.004425466</td><td>0.004425466</td><td>0.004425466</td><td>0.004425466</td></tr>\n",
       "\t<tr><td>0.014052795</td><td>0.014052795</td><td>0.014052795</td><td>0.014052795</td><td>0.014052795</td><td>0.014052795</td><td>0.014052795</td><td>0.014052795</td><td>0.014052795</td><td>0.014052795</td></tr>\n",
       "</tbody>\n",
       "</table>\n"
      ],
      "text/latex": [
       "A matrix: 15 × 10 of type dbl\n",
       "\\begin{tabular}{llllllllll}\n",
       "\t 0.001863354 & 0.001863354 & 0.001863354 & 0.001863354 & 0.001863354 & 0.001863354 & 0.001863354 & 0.001863354 & 0.001863354 & 0.001863354\\\\\n",
       "\t 0.006133540 & 0.006133540 & 0.006133540 & 0.006133540 & 0.006133540 & 0.006133540 & 0.006133540 & 0.006133540 & 0.006133540 & 0.006133540\\\\\n",
       "\t 0.007375776 & 0.007375776 & 0.007375776 & 0.007375776 & 0.007375776 & 0.007375776 & 0.007375776 & 0.007375776 & 0.007375776 & 0.007375776\\\\\n",
       "\t 0.007375776 & 0.007375776 & 0.007375776 & 0.007375776 & 0.007375776 & 0.007375776 & 0.007375776 & 0.007375776 & 0.007375776 & 0.007375776\\\\\n",
       "\t 0.004270186 & 0.004270186 & 0.004270186 & 0.004270186 & 0.004270186 & 0.004270186 & 0.004270186 & 0.004270186 & 0.004270186 & 0.004270186\\\\\n",
       "\t 0.005357143 & 0.005357143 & 0.005357143 & 0.005357143 & 0.005357143 & 0.005357143 & 0.005357143 & 0.005357143 & 0.005357143 & 0.005357143\\\\\n",
       "\t 0.011956522 & 0.011956522 & 0.011956522 & 0.011956522 & 0.011956522 & 0.011956522 & 0.011956522 & 0.011956522 & 0.011956522 & 0.011956522\\\\\n",
       "\t 0.001863354 & 0.001863354 & 0.001863354 & 0.001863354 & 0.001863354 & 0.001863354 & 0.001863354 & 0.001863354 & 0.001863354 & 0.001863354\\\\\n",
       "\t 0.001552795 & 0.001552795 & 0.001552795 & 0.001552795 & 0.001552795 & 0.001552795 & 0.001552795 & 0.001552795 & 0.001552795 & 0.001552795\\\\\n",
       "\t 0.001086957 & 0.001086957 & 0.001086957 & 0.001086957 & 0.001086957 & 0.001086957 & 0.001086957 & 0.001086957 & 0.001086957 & 0.001086957\\\\\n",
       "\t 0.003493789 & 0.003493789 & 0.003493789 & 0.003493789 & 0.003493789 & 0.003493789 & 0.003493789 & 0.003493789 & 0.003493789 & 0.003493789\\\\\n",
       "\t 0.013897516 & 0.013897516 & 0.013897516 & 0.013897516 & 0.013897516 & 0.013897516 & 0.013897516 & 0.013897516 & 0.013897516 & 0.013897516\\\\\n",
       "\t 0.015295031 & 0.015295031 & 0.015295031 & 0.015295031 & 0.015295031 & 0.015295031 & 0.015295031 & 0.015295031 & 0.015295031 & 0.015295031\\\\\n",
       "\t 0.004425466 & 0.004425466 & 0.004425466 & 0.004425466 & 0.004425466 & 0.004425466 & 0.004425466 & 0.004425466 & 0.004425466 & 0.004425466\\\\\n",
       "\t 0.014052795 & 0.014052795 & 0.014052795 & 0.014052795 & 0.014052795 & 0.014052795 & 0.014052795 & 0.014052795 & 0.014052795 & 0.014052795\\\\\n",
       "\\end{tabular}\n"
      ],
      "text/markdown": [
       "\n",
       "A matrix: 15 × 10 of type dbl\n",
       "\n",
       "| 0.001863354 | 0.001863354 | 0.001863354 | 0.001863354 | 0.001863354 | 0.001863354 | 0.001863354 | 0.001863354 | 0.001863354 | 0.001863354 |\n",
       "| 0.006133540 | 0.006133540 | 0.006133540 | 0.006133540 | 0.006133540 | 0.006133540 | 0.006133540 | 0.006133540 | 0.006133540 | 0.006133540 |\n",
       "| 0.007375776 | 0.007375776 | 0.007375776 | 0.007375776 | 0.007375776 | 0.007375776 | 0.007375776 | 0.007375776 | 0.007375776 | 0.007375776 |\n",
       "| 0.007375776 | 0.007375776 | 0.007375776 | 0.007375776 | 0.007375776 | 0.007375776 | 0.007375776 | 0.007375776 | 0.007375776 | 0.007375776 |\n",
       "| 0.004270186 | 0.004270186 | 0.004270186 | 0.004270186 | 0.004270186 | 0.004270186 | 0.004270186 | 0.004270186 | 0.004270186 | 0.004270186 |\n",
       "| 0.005357143 | 0.005357143 | 0.005357143 | 0.005357143 | 0.005357143 | 0.005357143 | 0.005357143 | 0.005357143 | 0.005357143 | 0.005357143 |\n",
       "| 0.011956522 | 0.011956522 | 0.011956522 | 0.011956522 | 0.011956522 | 0.011956522 | 0.011956522 | 0.011956522 | 0.011956522 | 0.011956522 |\n",
       "| 0.001863354 | 0.001863354 | 0.001863354 | 0.001863354 | 0.001863354 | 0.001863354 | 0.001863354 | 0.001863354 | 0.001863354 | 0.001863354 |\n",
       "| 0.001552795 | 0.001552795 | 0.001552795 | 0.001552795 | 0.001552795 | 0.001552795 | 0.001552795 | 0.001552795 | 0.001552795 | 0.001552795 |\n",
       "| 0.001086957 | 0.001086957 | 0.001086957 | 0.001086957 | 0.001086957 | 0.001086957 | 0.001086957 | 0.001086957 | 0.001086957 | 0.001086957 |\n",
       "| 0.003493789 | 0.003493789 | 0.003493789 | 0.003493789 | 0.003493789 | 0.003493789 | 0.003493789 | 0.003493789 | 0.003493789 | 0.003493789 |\n",
       "| 0.013897516 | 0.013897516 | 0.013897516 | 0.013897516 | 0.013897516 | 0.013897516 | 0.013897516 | 0.013897516 | 0.013897516 | 0.013897516 |\n",
       "| 0.015295031 | 0.015295031 | 0.015295031 | 0.015295031 | 0.015295031 | 0.015295031 | 0.015295031 | 0.015295031 | 0.015295031 | 0.015295031 |\n",
       "| 0.004425466 | 0.004425466 | 0.004425466 | 0.004425466 | 0.004425466 | 0.004425466 | 0.004425466 | 0.004425466 | 0.004425466 | 0.004425466 |\n",
       "| 0.014052795 | 0.014052795 | 0.014052795 | 0.014052795 | 0.014052795 | 0.014052795 | 0.014052795 | 0.014052795 | 0.014052795 | 0.014052795 |\n",
       "\n"
      ],
      "text/plain": [
       "      [,1]        [,2]        [,3]        [,4]        [,5]        [,6]       \n",
       " [1,] 0.001863354 0.001863354 0.001863354 0.001863354 0.001863354 0.001863354\n",
       " [2,] 0.006133540 0.006133540 0.006133540 0.006133540 0.006133540 0.006133540\n",
       " [3,] 0.007375776 0.007375776 0.007375776 0.007375776 0.007375776 0.007375776\n",
       " [4,] 0.007375776 0.007375776 0.007375776 0.007375776 0.007375776 0.007375776\n",
       " [5,] 0.004270186 0.004270186 0.004270186 0.004270186 0.004270186 0.004270186\n",
       " [6,] 0.005357143 0.005357143 0.005357143 0.005357143 0.005357143 0.005357143\n",
       " [7,] 0.011956522 0.011956522 0.011956522 0.011956522 0.011956522 0.011956522\n",
       " [8,] 0.001863354 0.001863354 0.001863354 0.001863354 0.001863354 0.001863354\n",
       " [9,] 0.001552795 0.001552795 0.001552795 0.001552795 0.001552795 0.001552795\n",
       "[10,] 0.001086957 0.001086957 0.001086957 0.001086957 0.001086957 0.001086957\n",
       "[11,] 0.003493789 0.003493789 0.003493789 0.003493789 0.003493789 0.003493789\n",
       "[12,] 0.013897516 0.013897516 0.013897516 0.013897516 0.013897516 0.013897516\n",
       "[13,] 0.015295031 0.015295031 0.015295031 0.015295031 0.015295031 0.015295031\n",
       "[14,] 0.004425466 0.004425466 0.004425466 0.004425466 0.004425466 0.004425466\n",
       "[15,] 0.014052795 0.014052795 0.014052795 0.014052795 0.014052795 0.014052795\n",
       "      [,7]        [,8]        [,9]        [,10]      \n",
       " [1,] 0.001863354 0.001863354 0.001863354 0.001863354\n",
       " [2,] 0.006133540 0.006133540 0.006133540 0.006133540\n",
       " [3,] 0.007375776 0.007375776 0.007375776 0.007375776\n",
       " [4,] 0.007375776 0.007375776 0.007375776 0.007375776\n",
       " [5,] 0.004270186 0.004270186 0.004270186 0.004270186\n",
       " [6,] 0.005357143 0.005357143 0.005357143 0.005357143\n",
       " [7,] 0.011956522 0.011956522 0.011956522 0.011956522\n",
       " [8,] 0.001863354 0.001863354 0.001863354 0.001863354\n",
       " [9,] 0.001552795 0.001552795 0.001552795 0.001552795\n",
       "[10,] 0.001086957 0.001086957 0.001086957 0.001086957\n",
       "[11,] 0.003493789 0.003493789 0.003493789 0.003493789\n",
       "[12,] 0.013897516 0.013897516 0.013897516 0.013897516\n",
       "[13,] 0.015295031 0.015295031 0.015295031 0.015295031\n",
       "[14,] 0.004425466 0.004425466 0.004425466 0.004425466\n",
       "[15,] 0.014052795 0.014052795 0.014052795 0.014052795"
      ]
     },
     "metadata": {},
     "output_type": "display_data"
    }
   ],
   "source": [
    "p.hat"
   ]
  },
  {
   "cell_type": "markdown",
   "metadata": {},
   "source": [
    "Aggregate the allocation matrix to the upper geography (tracts):"
   ]
  },
  {
   "cell_type": "code",
   "execution_count": 43,
   "metadata": {},
   "outputs": [],
   "source": [
    "p.hat.trt <- agg2parent(p.hat, ids = get_parent_ids(A[[1]]))"
   ]
  },
  {
   "cell_type": "markdown",
   "metadata": {},
   "source": [
    "Vectorize and combine the upper (tract) and target (block group) constraint estimates:"
   ]
  },
  {
   "cell_type": "code",
   "execution_count": 44,
   "metadata": {},
   "outputs": [],
   "source": [
    "Y.hat <- c(\n",
    "    as.vector(apply(pX[[1]], 2, function(v) colSums(v * p.hat.trt * N))),\n",
    "    as.vector(apply(pX[[1]], 2, function(v) colSums(v * p.hat * N)))\n",
    ")"
   ]
  },
  {
   "cell_type": "markdown",
   "metadata": {},
   "source": [
    "Combine everything needed to compute Penalized Entropy for each constraint (`Y`, `Yhat`, `V`) into a data frame. Note that we need to convert `V` back to counts. For illustrative purposes, we'll also compute the upper and lower 90% margin of error on `Y`."
   ]
  },
  {
   "cell_type": "code",
   "execution_count": 45,
   "metadata": {},
   "outputs": [],
   "source": [
    "Ype <- data.frame(Y = Y_vec * N, Y.hat = Y.hat, V = diag(sV) * N^2/n)\n",
    "Ype$MOE.lower <- Ype$Y - (1.645 * sqrt(Ype$V))\n",
    "Ype$MOE.upper <- Ype$Y + (1.645 * sqrt(Ype$V))\n",
    "Ype$win.moe <- factor(with(Ype, ifelse(Y.hat >= MOE.lower & Y.hat <= MOE.upper, 'Yes', 'No')),\n",
    "                      levels = c('No', 'Yes'))"
   ]
  },
  {
   "cell_type": "markdown",
   "metadata": {},
   "source": [
    "Finally, plot the result:"
   ]
  },
  {
   "cell_type": "code",
   "execution_count": 46,
   "metadata": {},
   "outputs": [
    {
     "data": {
      "image/png": "[encoded data removed]",
      "text/plain": [
       "plot without title"
      ]
     },
     "metadata": {
      "image/png": {
       "height": 420,
       "width": 420
      },
      "text/plain": {
       "height": 420,
       "width": 420
      }
     },
     "output_type": "display_data"
    }
   ],
   "source": [
    "## plot the result\n",
    "library(ggplot2)\n",
    "plt.init <- ggplot(data = Ype, aes(x = Y, y = Y.hat)) + \n",
    "  geom_linerange(aes(ymin = MOE.lower, ymax = MOE.upper, col = win.moe), size = 2) +\n",
    "  geom_point() + \n",
    "  scale_color_manual(values = c('coral', 'skyblue'), drop = F) +\n",
    "  ggtitle('Initial P-MEDM Solution') +\n",
    "  theme_bw() +\n",
    "  theme(plot.title = element_text(hjust = 0.5)) + \n",
    "  labs(color = 'Within ACS 90%\\nMargin of Error?')\n",
    "plt.init"
   ]
  },
  {
   "cell_type": "markdown",
   "metadata": {},
   "source": [
    "We can see that in the initial solution (setting $\\lambda$ to 0), many of the \"reconstructed\" geographic constraint estimates (`Y.hat`) do not match the observed constraint estimates `Y`, many of them falling well outside the 90% margin of error estimates on `Y`.\n",
    "\n",
    "The optimization procedure iteratively updates $\\lambda$ from this starting run, and with it produces refined allocation probabilites that better \"reconstruct\" the geographic constraints `Y`."
   ]
  },
  {
   "cell_type": "markdown",
   "metadata": {},
   "source": [
    "### Optimization"
   ]
  },
  {
   "cell_type": "code",
   "execution_count": 47,
   "metadata": {},
   "outputs": [],
   "source": [
    "penalized.entropy <- function(lambda){\n",
    "  \n",
    "  \"\n",
    "  pX : the individual-level constraints \n",
    "    (this is a dual matrix, just subset ONE element as the input!)\n",
    "    \n",
    "  X : dual matrix of individual-level constraints (x) geographies (kroenecker product)\n",
    "  \n",
    "  Yv : a vector of geographic constraints (parent level, THEN child level)\n",
    "  \n",
    "  sV: a sparse diagonal matrix of variances in the area-level constraints\n",
    "  \n",
    "  q : prior allocation probabilities\n",
    "    (equal probability of selecting individual `i` in areas `j = 1...m`)\n",
    "    \n",
    "  n : number of PUMS records\n",
    "  \n",
    "  N : total population size\n",
    "  \n",
    "  A : dual matrix, a crosswalk between the child and parent geographies `A[[1]]`\n",
    "      and identity matrix for target (child) units `A[[2]]``\n",
    "  \"\n",
    "  \n",
    "  p.hat <- compute_allocation(q, X, lambda)\n",
    "  \n",
    "  p.hat <- reshape_probabilities(p.hat, n, A)\n",
    "  p.hat.trt <- agg2parent(p.hat, ids = get_parent_ids(A[[1]]))\n",
    "  \n",
    "  Y.hat <- c(\n",
    "    as.vector(apply(pX[[1]], 2, function(v) colSums(v * p.hat.trt * N))),\n",
    "    as.vector(apply(pX[[1]], 2, function(v) colSums(v * p.hat * N)))\n",
    "  )\n",
    "  \n",
    "  Ype <- data.frame(Y = Y_vec * N, Y.hat = Y.hat, V = diag(sV) * N^2/n)\n",
    "  \n",
    "  # penalized entropy values\n",
    "  PE <- apply(Ype, 1, function(i) f(w = i['Y'], d = i['Y.hat'], n = n, N = N, v = i['V']))\n",
    "  \n",
    "  -mean(PE) # negative so that the objective is maximization\n",
    "  \n",
    "  \n",
    "}"
   ]
  },
  {
   "cell_type": "markdown",
   "metadata": {},
   "source": [
    "Perform the optimization using the built-in `optim` function:"
   ]
  },
  {
   "cell_type": "code",
   "execution_count": 48,
   "metadata": {},
   "outputs": [
    {
     "name": "stdout",
     "output_type": "stream",
     "text": [
      "initial  value 18.151131 \n",
      "iter  10 value 4.175598\n",
      "iter  20 value 0.879040\n",
      "iter  30 value 0.167560\n",
      "iter  40 value 0.027852\n",
      "iter  50 value 0.011267\n",
      "iter  60 value 0.006208\n",
      "iter  70 value 0.003274\n",
      "iter  80 value 0.001784\n",
      "iter  90 value 0.000786\n",
      "iter 100 value 0.000054\n",
      "final  value 0.000054 \n",
      "stopped after 100 iterations\n",
      "51.006 sec elapsed\n"
     ]
    }
   ],
   "source": [
    "library(tictoc)\n",
    "tic()\n",
    "pmedm.optim <- optim(par = rep(0, length(Y_vec)),\n",
    "                      fn = penalized.entropy,\n",
    "                      method = 'BFGS',\n",
    "                      control = list(trace = 4))\n",
    "toc()"
   ]
  },
  {
   "cell_type": "markdown",
   "metadata": {},
   "source": [
    "### Compare the initial and final P-MEDM solutions"
   ]
  },
  {
   "cell_type": "code",
   "execution_count": 49,
   "metadata": {},
   "outputs": [],
   "source": [
    "## repeat the example above for the final solution\n",
    "p.hat.optim <- compute_allocation(q, X, lambda = pmedm.optim$par) # P-MEDM simple final lambda\n",
    "\n",
    "p.hat.optim <- reshape_probabilities(p.hat.optim, n, A)\n",
    "p.hat.trt.optim <- agg2parent(p.hat.optim, ids = get_parent_ids(A[[1]]))\n",
    "\n",
    "Y.hat.optim <- c(\n",
    "  as.vector(apply(pX[[1]], 2, function(v) colSums(v * p.hat.trt.optim * N))),\n",
    "  as.vector(apply(pX[[1]], 2, function(v) colSums(v * p.hat.optim * N)))\n",
    ")\n",
    "\n",
    "Ype.optim <- data.frame(Y = Y_vec * N, Y.hat = Y.hat.optim, V = diag(sV) * N^2/n)\n",
    "Ype.optim$MOE.lower <- Ype.optim$Y - (1.645 * sqrt(Ype.optim$V))\n",
    "Ype.optim$MOE.upper <- Ype.optim$Y + (1.645 * sqrt(Ype.optim$V))\n",
    "Ype.optim$win.moe <- factor(with(Ype.optim, ifelse(Y.hat >= MOE.lower & Y.hat <= MOE.upper, 'Yes', 'No')),\n",
    "                      levels = c('No', 'Yes'))"
   ]
  },
  {
   "cell_type": "code",
   "execution_count": 50,
   "metadata": {},
   "outputs": [],
   "source": [
    "plt.optim <- ggplot(data = Ype.optim, aes(x = Y, y = Y.hat)) + \n",
    "  geom_linerange(aes(ymin = MOE.lower, ymax = MOE.upper, col = win.moe), size = 2) +\n",
    "  geom_point() + \n",
    "  scale_color_manual(values = c('coral', 'skyblue'), drop = F) +\n",
    "  ggtitle('Optimized P-MEDM Solution') +\n",
    "  theme_bw() +\n",
    "  theme(plot.title = element_text(hjust = 0.5)) + \n",
    "  labs(color = 'Within ACS 90%\\nMargin of Error?')"
   ]
  },
  {
   "cell_type": "code",
   "execution_count": 51,
   "metadata": {},
   "outputs": [
    {
     "data": {
      "image/png": "[encoded data removed]",
      "text/plain": [
       "plot without title"
      ]
     },
     "metadata": {
      "image/png": {
       "height": 420,
       "width": 960
      },
      "text/plain": {
       "height": 420,
       "width": 960
      }
     },
     "output_type": "display_data"
    }
   ],
   "source": [
    "options(repr.plot.height = 7, repr.plot.width = 16)\n",
    "cowplot::plot_grid(plt.init, plt.optim, nrow = 1)"
   ]
  }
 ],
 "metadata": {
  "kernelspec": {
   "display_name": "R",
   "language": "R",
   "name": "ir"
  },
  "language_info": {
   "codemirror_mode": "r",
   "file_extension": ".r",
   "mimetype": "text/x-r-source",
   "name": "R",
   "pygments_lexer": "r",
   "version": "3.6.3"
  }
 },
 "nbformat": 4,
 "nbformat_minor": 4
}
