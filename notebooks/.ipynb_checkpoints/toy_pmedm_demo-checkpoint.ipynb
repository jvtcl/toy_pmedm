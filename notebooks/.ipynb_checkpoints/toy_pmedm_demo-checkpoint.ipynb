{
 "cells": [
  {
   "cell_type": "code",
   "execution_count": 1,
   "metadata": {},
   "outputs": [],
   "source": [
    "setwd('../')"
   ]
  },
  {
   "cell_type": "code",
   "execution_count": 2,
   "metadata": {},
   "outputs": [],
   "source": [
    "## load the constraints\n",
    "constraints_ind <- read.csv('data/toy_constraints_ind.csv', stringsAsFactors = F)\n",
    "constraints_bg <- read.csv('data/toy_constraints_bg.csv', stringsAsFactors = F)\n",
    "constraints_trt <- read.csv('data/toy_constraints_trt.csv', stringsAsFactors = F)[,-1]"
   ]
  },
  {
   "cell_type": "code",
   "execution_count": null,
   "metadata": {},
   "outputs": [],
   "source": [
    "# build geo lookup table\n",
    "geo_lookup <- data.frame(bg = constraints_bg$GEOID, trt = constraints_trt$GEOID)"
   ]
  }
 ],
 "metadata": {
  "kernelspec": {
   "display_name": "R",
   "language": "R",
   "name": "ir"
  },
  "language_info": {
   "codemirror_mode": "r",
   "file_extension": ".r",
   "mimetype": "text/x-r-source",
   "name": "R",
   "pygments_lexer": "r",
   "version": "3.6.3"
  }
 },
 "nbformat": 4,
 "nbformat_minor": 4
}
